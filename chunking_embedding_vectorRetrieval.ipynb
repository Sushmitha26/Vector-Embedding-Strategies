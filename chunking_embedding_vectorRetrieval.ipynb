{
 "cells": [
  {
   "cell_type": "code",
   "execution_count": 21,
   "id": "221a6c39-22cd-48d3-b726-bb1b1ff45e49",
   "metadata": {},
   "outputs": [
    {
     "name": "stdout",
     "output_type": "stream",
     "text": [
      "Requirement already satisfied: langchain-community in c:\\python313\\lib\\site-packages (0.3.20)\n",
      "Requirement already satisfied: langchain-core<1.0.0,>=0.3.45 in c:\\python313\\lib\\site-packages (from langchain-community) (0.3.49)\n",
      "Requirement already satisfied: langchain<1.0.0,>=0.3.21 in c:\\python313\\lib\\site-packages (from langchain-community) (0.3.21)\n",
      "Requirement already satisfied: SQLAlchemy<3,>=1.4 in c:\\python313\\lib\\site-packages (from langchain-community) (2.0.39)\n",
      "Requirement already satisfied: requests<3,>=2 in c:\\python313\\lib\\site-packages (from langchain-community) (2.32.3)\n",
      "Requirement already satisfied: PyYAML>=5.3 in c:\\python313\\lib\\site-packages (from langchain-community) (6.0.2)\n",
      "Requirement already satisfied: aiohttp<4.0.0,>=3.8.3 in c:\\python313\\lib\\site-packages (from langchain-community) (3.11.14)\n",
      "Requirement already satisfied: tenacity!=8.4.0,<10,>=8.1.0 in c:\\python313\\lib\\site-packages (from langchain-community) (9.0.0)\n",
      "Requirement already satisfied: dataclasses-json<0.7,>=0.5.7 in c:\\python313\\lib\\site-packages (from langchain-community) (0.6.7)\n",
      "Requirement already satisfied: pydantic-settings<3.0.0,>=2.4.0 in c:\\python313\\lib\\site-packages (from langchain-community) (2.8.1)\n",
      "Requirement already satisfied: langsmith<0.4,>=0.1.125 in c:\\python313\\lib\\site-packages (from langchain-community) (0.3.16)\n",
      "Requirement already satisfied: httpx-sse<1.0.0,>=0.4.0 in c:\\python313\\lib\\site-packages (from langchain-community) (0.4.0)\n",
      "Requirement already satisfied: numpy<3,>=1.26.2 in c:\\python313\\lib\\site-packages (from langchain-community) (1.26.4)\n",
      "Requirement already satisfied: aiohappyeyeballs>=2.3.0 in c:\\python313\\lib\\site-packages (from aiohttp<4.0.0,>=3.8.3->langchain-community) (2.6.1)\n",
      "Requirement already satisfied: aiosignal>=1.1.2 in c:\\python313\\lib\\site-packages (from aiohttp<4.0.0,>=3.8.3->langchain-community) (1.3.2)\n",
      "Requirement already satisfied: attrs>=17.3.0 in c:\\python313\\lib\\site-packages (from aiohttp<4.0.0,>=3.8.3->langchain-community) (25.3.0)\n",
      "Requirement already satisfied: frozenlist>=1.1.1 in c:\\python313\\lib\\site-packages (from aiohttp<4.0.0,>=3.8.3->langchain-community) (1.5.0)\n",
      "Requirement already satisfied: multidict<7.0,>=4.5 in c:\\python313\\lib\\site-packages (from aiohttp<4.0.0,>=3.8.3->langchain-community) (6.2.0)\n",
      "Requirement already satisfied: propcache>=0.2.0 in c:\\python313\\lib\\site-packages (from aiohttp<4.0.0,>=3.8.3->langchain-community) (0.3.0)\n",
      "Requirement already satisfied: yarl<2.0,>=1.17.0 in c:\\python313\\lib\\site-packages (from aiohttp<4.0.0,>=3.8.3->langchain-community) (1.18.3)\n",
      "Requirement already satisfied: marshmallow<4.0.0,>=3.18.0 in c:\\python313\\lib\\site-packages (from dataclasses-json<0.7,>=0.5.7->langchain-community) (3.26.1)\n",
      "Requirement already satisfied: typing-inspect<1,>=0.4.0 in c:\\python313\\lib\\site-packages (from dataclasses-json<0.7,>=0.5.7->langchain-community) (0.9.0)\n",
      "Requirement already satisfied: langchain-text-splitters<1.0.0,>=0.3.7 in c:\\python313\\lib\\site-packages (from langchain<1.0.0,>=0.3.21->langchain-community) (0.3.7)\n",
      "Requirement already satisfied: pydantic<3.0.0,>=2.7.4 in c:\\python313\\lib\\site-packages (from langchain<1.0.0,>=0.3.21->langchain-community) (2.10.6)\n",
      "Requirement already satisfied: jsonpatch<2.0,>=1.33 in c:\\python313\\lib\\site-packages (from langchain-core<1.0.0,>=0.3.45->langchain-community) (1.33)\n",
      "Requirement already satisfied: packaging<25,>=23.2 in c:\\python313\\lib\\site-packages (from langchain-core<1.0.0,>=0.3.45->langchain-community) (24.2)\n",
      "Requirement already satisfied: typing-extensions>=4.7 in c:\\python313\\lib\\site-packages (from langchain-core<1.0.0,>=0.3.45->langchain-community) (4.12.2)\n",
      "Requirement already satisfied: httpx<1,>=0.23.0 in c:\\python313\\lib\\site-packages (from langsmith<0.4,>=0.1.125->langchain-community) (0.28.1)\n",
      "Requirement already satisfied: orjson<4.0.0,>=3.9.14 in c:\\python313\\lib\\site-packages (from langsmith<0.4,>=0.1.125->langchain-community) (3.10.15)\n",
      "Requirement already satisfied: requests-toolbelt<2.0.0,>=1.0.0 in c:\\python313\\lib\\site-packages (from langsmith<0.4,>=0.1.125->langchain-community) (1.0.0)\n",
      "Requirement already satisfied: zstandard<0.24.0,>=0.23.0 in c:\\python313\\lib\\site-packages (from langsmith<0.4,>=0.1.125->langchain-community) (0.23.0)\n",
      "Requirement already satisfied: python-dotenv>=0.21.0 in c:\\python313\\lib\\site-packages (from pydantic-settings<3.0.0,>=2.4.0->langchain-community) (1.0.1)\n",
      "Requirement already satisfied: charset-normalizer<4,>=2 in c:\\python313\\lib\\site-packages (from requests<3,>=2->langchain-community) (3.4.1)\n",
      "Requirement already satisfied: idna<4,>=2.5 in c:\\python313\\lib\\site-packages (from requests<3,>=2->langchain-community) (3.10)\n",
      "Requirement already satisfied: urllib3<3,>=1.21.1 in c:\\python313\\lib\\site-packages (from requests<3,>=2->langchain-community) (2.3.0)\n",
      "Requirement already satisfied: certifi>=2017.4.17 in c:\\python313\\lib\\site-packages (from requests<3,>=2->langchain-community) (2025.1.31)\n",
      "Requirement already satisfied: greenlet!=0.4.17 in c:\\python313\\lib\\site-packages (from SQLAlchemy<3,>=1.4->langchain-community) (3.1.1)\n",
      "Requirement already satisfied: anyio in c:\\python313\\lib\\site-packages (from httpx<1,>=0.23.0->langsmith<0.4,>=0.1.125->langchain-community) (4.9.0)\n",
      "Requirement already satisfied: httpcore==1.* in c:\\python313\\lib\\site-packages (from httpx<1,>=0.23.0->langsmith<0.4,>=0.1.125->langchain-community) (1.0.7)\n",
      "Requirement already satisfied: h11<0.15,>=0.13 in c:\\python313\\lib\\site-packages (from httpcore==1.*->httpx<1,>=0.23.0->langsmith<0.4,>=0.1.125->langchain-community) (0.14.0)\n",
      "Requirement already satisfied: jsonpointer>=1.9 in c:\\python313\\lib\\site-packages (from jsonpatch<2.0,>=1.33->langchain-core<1.0.0,>=0.3.45->langchain-community) (3.0.0)\n",
      "Requirement already satisfied: annotated-types>=0.6.0 in c:\\python313\\lib\\site-packages (from pydantic<3.0.0,>=2.7.4->langchain<1.0.0,>=0.3.21->langchain-community) (0.7.0)\n",
      "Requirement already satisfied: pydantic-core==2.27.2 in c:\\python313\\lib\\site-packages (from pydantic<3.0.0,>=2.7.4->langchain<1.0.0,>=0.3.21->langchain-community) (2.27.2)\n",
      "Requirement already satisfied: mypy-extensions>=0.3.0 in c:\\python313\\lib\\site-packages (from typing-inspect<1,>=0.4.0->dataclasses-json<0.7,>=0.5.7->langchain-community) (1.0.0)\n",
      "Requirement already satisfied: sniffio>=1.1 in c:\\python313\\lib\\site-packages (from anyio->httpx<1,>=0.23.0->langsmith<0.4,>=0.1.125->langchain-community) (1.3.1)\n",
      "Note: you may need to restart the kernel to use updated packages.\n"
     ]
    }
   ],
   "source": [
    "pip install -U langchain-community"
   ]
  },
  {
   "cell_type": "code",
   "execution_count": 22,
   "id": "38130c71-7e03-4f9e-9e6e-c067af4c8cdb",
   "metadata": {},
   "outputs": [],
   "source": [
    "from langchain.document_loaders import TextLoader"
   ]
  },
  {
   "cell_type": "code",
   "execution_count": 23,
   "id": "aa4524f7-c423-423b-b477-b1c039f5e851",
   "metadata": {},
   "outputs": [],
   "source": [
    "from langchain.document_loaders import UnstructuredURLLoader"
   ]
  },
  {
   "cell_type": "code",
   "execution_count": 24,
   "id": "89f1fb63-ae58-436b-ae1a-4fe705fc44b2",
   "metadata": {},
   "outputs": [
    {
     "name": "stdout",
     "output_type": "stream",
     "text": [
      "Requirement already satisfied: unstructured in c:\\python313\\lib\\site-packages (0.17.0)\n",
      "Requirement already satisfied: libmagic in c:\\python313\\lib\\site-packages (1.0)\n",
      "Requirement already satisfied: python-magic in c:\\python313\\lib\\site-packages (0.4.27)\n",
      "Requirement already satisfied: python-magic-bin in c:\\python313\\lib\\site-packages (0.4.14)\n",
      "Requirement already satisfied: chardet in c:\\python313\\lib\\site-packages (from unstructured) (5.2.0)\n",
      "Requirement already satisfied: filetype in c:\\python313\\lib\\site-packages (from unstructured) (1.2.0)\n",
      "Requirement already satisfied: lxml in c:\\python313\\lib\\site-packages (from unstructured) (5.3.1)\n",
      "Requirement already satisfied: nltk in c:\\python313\\lib\\site-packages (from unstructured) (3.9.1)\n",
      "Requirement already satisfied: requests in c:\\python313\\lib\\site-packages (from unstructured) (2.32.3)\n",
      "Requirement already satisfied: beautifulsoup4 in c:\\python313\\lib\\site-packages (from unstructured) (4.13.3)\n",
      "Requirement already satisfied: emoji in c:\\python313\\lib\\site-packages (from unstructured) (2.14.1)\n",
      "Requirement already satisfied: dataclasses-json in c:\\python313\\lib\\site-packages (from unstructured) (0.6.7)\n",
      "Requirement already satisfied: python-iso639 in c:\\python313\\lib\\site-packages (from unstructured) (2025.2.18)\n",
      "Requirement already satisfied: langdetect in c:\\python313\\lib\\site-packages (from unstructured) (1.0.9)\n",
      "Requirement already satisfied: numpy<2 in c:\\python313\\lib\\site-packages (from unstructured) (1.26.4)\n",
      "Requirement already satisfied: rapidfuzz in c:\\python313\\lib\\site-packages (from unstructured) (3.12.2)\n",
      "Requirement already satisfied: backoff in c:\\python313\\lib\\site-packages (from unstructured) (2.2.1)\n",
      "Requirement already satisfied: typing-extensions in c:\\python313\\lib\\site-packages (from unstructured) (4.12.2)\n",
      "Requirement already satisfied: unstructured-client in c:\\python313\\lib\\site-packages (from unstructured) (0.31.1)\n",
      "Requirement already satisfied: wrapt in c:\\python313\\lib\\site-packages (from unstructured) (1.17.2)\n",
      "Requirement already satisfied: tqdm in c:\\python313\\lib\\site-packages (from unstructured) (4.67.1)\n",
      "Requirement already satisfied: psutil in c:\\python313\\lib\\site-packages (from unstructured) (7.0.0)\n",
      "Requirement already satisfied: python-oxmsg in c:\\python313\\lib\\site-packages (from unstructured) (0.0.2)\n",
      "Requirement already satisfied: html5lib in c:\\python313\\lib\\site-packages (from unstructured) (1.1)\n",
      "Requirement already satisfied: soupsieve>1.2 in c:\\python313\\lib\\site-packages (from beautifulsoup4->unstructured) (2.6)\n",
      "Requirement already satisfied: marshmallow<4.0.0,>=3.18.0 in c:\\python313\\lib\\site-packages (from dataclasses-json->unstructured) (3.26.1)\n",
      "Requirement already satisfied: typing-inspect<1,>=0.4.0 in c:\\python313\\lib\\site-packages (from dataclasses-json->unstructured) (0.9.0)\n",
      "Requirement already satisfied: six>=1.9 in c:\\python313\\lib\\site-packages (from html5lib->unstructured) (1.17.0)\n",
      "Requirement already satisfied: webencodings in c:\\python313\\lib\\site-packages (from html5lib->unstructured) (0.5.1)\n",
      "Requirement already satisfied: click in c:\\python313\\lib\\site-packages (from nltk->unstructured) (8.1.8)\n",
      "Requirement already satisfied: joblib in c:\\python313\\lib\\site-packages (from nltk->unstructured) (1.4.2)\n",
      "Requirement already satisfied: regex>=2021.8.3 in c:\\python313\\lib\\site-packages (from nltk->unstructured) (2024.11.6)\n",
      "Requirement already satisfied: olefile in c:\\python313\\lib\\site-packages (from python-oxmsg->unstructured) (0.47)\n",
      "Requirement already satisfied: charset-normalizer<4,>=2 in c:\\python313\\lib\\site-packages (from requests->unstructured) (3.4.1)\n",
      "Requirement already satisfied: idna<4,>=2.5 in c:\\python313\\lib\\site-packages (from requests->unstructured) (3.10)\n",
      "Requirement already satisfied: urllib3<3,>=1.21.1 in c:\\python313\\lib\\site-packages (from requests->unstructured) (2.3.0)\n",
      "Requirement already satisfied: certifi>=2017.4.17 in c:\\python313\\lib\\site-packages (from requests->unstructured) (2025.1.31)\n",
      "Requirement already satisfied: colorama in c:\\python313\\lib\\site-packages (from tqdm->unstructured) (0.4.6)\n",
      "Requirement already satisfied: aiofiles>=24.1.0 in c:\\python313\\lib\\site-packages (from unstructured-client->unstructured) (24.1.0)\n",
      "Requirement already satisfied: cryptography>=3.1 in c:\\python313\\lib\\site-packages (from unstructured-client->unstructured) (44.0.2)\n",
      "Requirement already satisfied: eval-type-backport>=0.2.0 in c:\\python313\\lib\\site-packages (from unstructured-client->unstructured) (0.2.2)\n",
      "Requirement already satisfied: httpx>=0.27.0 in c:\\python313\\lib\\site-packages (from unstructured-client->unstructured) (0.28.1)\n",
      "Requirement already satisfied: nest-asyncio>=1.6.0 in c:\\python313\\lib\\site-packages (from unstructured-client->unstructured) (1.6.0)\n",
      "Requirement already satisfied: pydantic>=2.10.3 in c:\\python313\\lib\\site-packages (from unstructured-client->unstructured) (2.10.6)\n",
      "Requirement already satisfied: pypdf>=4.0 in c:\\python313\\lib\\site-packages (from unstructured-client->unstructured) (5.4.0)\n",
      "Requirement already satisfied: python-dateutil>=2.8.2 in c:\\python313\\lib\\site-packages (from unstructured-client->unstructured) (2.9.0.post0)\n",
      "Requirement already satisfied: requests-toolbelt>=1.0.0 in c:\\python313\\lib\\site-packages (from unstructured-client->unstructured) (1.0.0)\n",
      "Requirement already satisfied: typing-inspection>=0.4.0 in c:\\python313\\lib\\site-packages (from unstructured-client->unstructured) (0.4.0)\n",
      "Requirement already satisfied: cffi>=1.12 in c:\\python313\\lib\\site-packages (from cryptography>=3.1->unstructured-client->unstructured) (1.17.1)\n",
      "Requirement already satisfied: anyio in c:\\python313\\lib\\site-packages (from httpx>=0.27.0->unstructured-client->unstructured) (4.9.0)\n",
      "Requirement already satisfied: httpcore==1.* in c:\\python313\\lib\\site-packages (from httpx>=0.27.0->unstructured-client->unstructured) (1.0.7)\n",
      "Requirement already satisfied: h11<0.15,>=0.13 in c:\\python313\\lib\\site-packages (from httpcore==1.*->httpx>=0.27.0->unstructured-client->unstructured) (0.14.0)\n",
      "Requirement already satisfied: packaging>=17.0 in c:\\python313\\lib\\site-packages (from marshmallow<4.0.0,>=3.18.0->dataclasses-json->unstructured) (24.2)\n",
      "Requirement already satisfied: annotated-types>=0.6.0 in c:\\python313\\lib\\site-packages (from pydantic>=2.10.3->unstructured-client->unstructured) (0.7.0)\n",
      "Requirement already satisfied: pydantic-core==2.27.2 in c:\\python313\\lib\\site-packages (from pydantic>=2.10.3->unstructured-client->unstructured) (2.27.2)\n",
      "Requirement already satisfied: mypy-extensions>=0.3.0 in c:\\python313\\lib\\site-packages (from typing-inspect<1,>=0.4.0->dataclasses-json->unstructured) (1.0.0)\n",
      "Requirement already satisfied: pycparser in c:\\python313\\lib\\site-packages (from cffi>=1.12->cryptography>=3.1->unstructured-client->unstructured) (2.22)\n",
      "Requirement already satisfied: sniffio>=1.1 in c:\\python313\\lib\\site-packages (from anyio->httpx>=0.27.0->unstructured-client->unstructured) (1.3.1)\n"
     ]
    }
   ],
   "source": [
    "!pip3 install unstructured libmagic python-magic python-magic-bin"
   ]
  },
  {
   "cell_type": "code",
   "execution_count": 32,
   "id": "796aa53d-a75f-4a17-bc62-d3817d51d56e",
   "metadata": {},
   "outputs": [
    {
     "data": {
      "text/plain": [
       "2"
      ]
     },
     "execution_count": 32,
     "metadata": {},
     "output_type": "execute_result"
    }
   ],
   "source": [
    "loader = UnstructuredURLLoader(urls=[\n",
    "    \"https://www.moneycontrol.com/news/business/markets/wall-street-rises-as-tesla-soars-on-ai-optimism-11351111.html\",\n",
    "     \"https://www.moneycontrol.com/news/business/tata-motors-launches-punch-icng-price-starts-at-rs-7-1-lakh-11098751.html\"\n",
    "])\n",
    "data = loader.load()\n",
    "len(data)"
   ]
  },
  {
   "cell_type": "code",
   "execution_count": 33,
   "id": "81b94dc8-937b-49af-9114-1af0dce3198f",
   "metadata": {},
   "outputs": [
    {
     "data": {
      "text/plain": [
       "{'source': 'https://www.moneycontrol.com/news/business/markets/wall-street-rises-as-tesla-soars-on-ai-optimism-11351111.html'}"
      ]
     },
     "execution_count": 33,
     "metadata": {},
     "output_type": "execute_result"
    }
   ],
   "source": [
    "data[0].metadata"
   ]
  },
  {
   "cell_type": "code",
   "execution_count": 27,
   "id": "7c270b3b-7b69-484a-83c5-2ac4dfd08e0e",
   "metadata": {},
   "outputs": [],
   "source": [
    "from langchain.text_splitter import CharacterTextSplitter\n"
   ]
  },
  {
   "cell_type": "code",
   "execution_count": 15,
   "id": "9489cba7-c75f-4840-809e-a8942a3171e1",
   "metadata": {},
   "outputs": [],
   "source": [
    "text=\"\"\"It may measure less than 50 square miles and have a population that doesn’t even crack a million, but San Francisco justly ranks as one of the greatest cities in the world. \\n Famous for grand-dame Victorians, cable cars, a dynamic waterfront, and a soaring golden bridge, this city truly has it all. \\n With trend-defining cuisine ranging from Michelin-starred dining to outrageous food trucks; world-renowned symphony, ballet, theater, and opera; plus almost boundless outdoor adventures, San Francisco justifiably \\n stands out as one of the ultimate must-visit cities on any traveler’s wish list. The hardest part may be deciding where to go first. (Well, that and packing for the city’s famously unpredictable weather.) The Golden Gate Bridge is one of the city’s most iconic landmarks; you can walk or bike across the span to the Marin Headlands. Or stay on the San Francisco side and stroll over to the San Francisco Palace of Fine Arts, the Presidio, or Lands End, a rugged, windswept playground where you can watch for whales and check out the ruins of the Sutro Baths.\"\"\""
   ]
  },
  {
   "cell_type": "code",
   "execution_count": 16,
   "id": "a1c8da01-ca21-441c-8707-9c7d5db9df95",
   "metadata": {},
   "outputs": [
    {
     "name": "stderr",
     "output_type": "stream",
     "text": [
      "Created a chunk of size 214, which is longer than the specified 200\n"
     ]
    },
    {
     "data": {
      "text/plain": [
       "4"
      ]
     },
     "execution_count": 16,
     "metadata": {},
     "output_type": "execute_result"
    }
   ],
   "source": [
    "splitter = CharacterTextSplitter(\n",
    "    separator=\"\\n\",\n",
    "    chunk_size=200,\n",
    "    chunk_overlap=0\n",
    ")\n",
    "chunks=splitter.split_text(text)\n",
    "len(chunks)"
   ]
  },
  {
   "cell_type": "code",
   "execution_count": 17,
   "id": "6680486a-1e08-4234-959d-3ffc890f6dae",
   "metadata": {},
   "outputs": [
    {
     "name": "stdout",
     "output_type": "stream",
     "text": [
      "172\n",
      "124\n",
      "212\n",
      "558\n"
     ]
    }
   ],
   "source": [
    "for chunk in chunks:\n",
    "    print(len(chunk))"
   ]
  },
  {
   "cell_type": "code",
   "execution_count": 18,
   "id": "0d78e8cc-7dea-4081-930f-59518ea0cbaa",
   "metadata": {},
   "outputs": [
    {
     "name": "stdout",
     "output_type": "stream",
     "text": [
      "172\n",
      "124\n",
      "190\n",
      "21\n",
      "194\n",
      "198\n",
      "164\n"
     ]
    }
   ],
   "source": [
    "from langchain.text_splitter import RecursiveCharacterTextSplitter\n",
    "\n",
    "r_splitter = RecursiveCharacterTextSplitter(\n",
    "    separators = [\"\\n\\n\", \"\\n\", \" \"],\n",
    "    chunk_size=200,\n",
    "    chunk_overlap=0,\n",
    "    length_function = len\n",
    ")\n",
    "r_chunks = r_splitter.split_text(text)\n",
    "for chunk in r_chunks:\n",
    "    print(len(chunk))"
   ]
  },
  {
   "cell_type": "code",
   "execution_count": 12,
   "id": "418ab81b-ff6d-4f1d-8f41-c8e4f8237dc8",
   "metadata": {},
   "outputs": [
    {
     "name": "stdout",
     "output_type": "stream",
     "text": [
      "Collecting faiss-cpu\n",
      "  Downloading faiss_cpu-1.10.0-cp313-cp313-win_amd64.whl.metadata (4.5 kB)\n",
      "Requirement already satisfied: numpy<3.0,>=1.25.0 in c:\\python313\\lib\\site-packages (from faiss-cpu) (1.26.4)\n",
      "Requirement already satisfied: packaging in c:\\python313\\lib\\site-packages (from faiss-cpu) (24.2)\n",
      "Downloading faiss_cpu-1.10.0-cp313-cp313-win_amd64.whl (13.7 MB)\n",
      "   ---------------------------------------- 0.0/13.7 MB ? eta -:--:--\n",
      "   ---------------------------------------- 0.0/13.7 MB ? eta -:--:--\n",
      "    --------------------------------------- 0.3/13.7 MB ? eta -:--:--\n",
      "   - -------------------------------------- 0.5/13.7 MB 891.8 kB/s eta 0:00:15\n",
      "   - -------------------------------------- 0.5/13.7 MB 891.8 kB/s eta 0:00:15\n",
      "   -- ------------------------------------- 0.8/13.7 MB 849.7 kB/s eta 0:00:16\n",
      "   --- ------------------------------------ 1.0/13.7 MB 929.5 kB/s eta 0:00:14\n",
      "   --- ------------------------------------ 1.0/13.7 MB 929.5 kB/s eta 0:00:14\n",
      "   --- ------------------------------------ 1.3/13.7 MB 780.7 kB/s eta 0:00:16\n",
      "   --- ------------------------------------ 1.3/13.7 MB 780.7 kB/s eta 0:00:16\n",
      "   ---- ----------------------------------- 1.6/13.7 MB 830.1 kB/s eta 0:00:15\n",
      "   ----- ---------------------------------- 1.8/13.7 MB 872.8 kB/s eta 0:00:14\n",
      "   ------ --------------------------------- 2.1/13.7 MB 855.0 kB/s eta 0:00:14\n",
      "   ------ --------------------------------- 2.4/13.7 MB 892.8 kB/s eta 0:00:13\n",
      "   ------- -------------------------------- 2.6/13.7 MB 912.0 kB/s eta 0:00:13\n",
      "   ------- -------------------------------- 2.6/13.7 MB 912.0 kB/s eta 0:00:13\n",
      "   ------- -------------------------------- 2.6/13.7 MB 912.0 kB/s eta 0:00:13\n",
      "   -------- ------------------------------- 2.9/13.7 MB 841.1 kB/s eta 0:00:13\n",
      "   -------- ------------------------------- 2.9/13.7 MB 841.1 kB/s eta 0:00:13\n",
      "   --------- ------------------------------ 3.1/13.7 MB 818.6 kB/s eta 0:00:13\n",
      "   --------- ------------------------------ 3.4/13.7 MB 832.0 kB/s eta 0:00:13\n",
      "   ---------- ----------------------------- 3.7/13.7 MB 861.2 kB/s eta 0:00:12\n",
      "   ----------- ---------------------------- 3.9/13.7 MB 872.9 kB/s eta 0:00:12\n",
      "   ------------ --------------------------- 4.2/13.7 MB 903.6 kB/s eta 0:00:11\n",
      "   ------------- -------------------------- 4.5/13.7 MB 925.9 kB/s eta 0:00:10\n",
      "   -------------- ------------------------- 5.0/13.7 MB 973.2 kB/s eta 0:00:09\n",
      "   --------------- ------------------------ 5.2/13.7 MB 982.2 kB/s eta 0:00:09\n",
      "   ---------------- ----------------------- 5.5/13.7 MB 998.7 kB/s eta 0:00:09\n",
      "   ---------------- ----------------------- 5.8/13.7 MB 1.0 MB/s eta 0:00:08\n",
      "   ------------------ --------------------- 6.3/13.7 MB 1.1 MB/s eta 0:00:08\n",
      "   ------------------- -------------------- 6.6/13.7 MB 1.1 MB/s eta 0:00:07\n",
      "   ------------------- -------------------- 6.8/13.7 MB 1.1 MB/s eta 0:00:07\n",
      "   ------------------- -------------------- 6.8/13.7 MB 1.1 MB/s eta 0:00:07\n",
      "   --------------------- ------------------ 7.3/13.7 MB 1.1 MB/s eta 0:00:06\n",
      "   ---------------------- ----------------- 7.6/13.7 MB 1.1 MB/s eta 0:00:06\n",
      "   ----------------------- ---------------- 8.1/13.7 MB 1.1 MB/s eta 0:00:05\n",
      "   ------------------------ --------------- 8.4/13.7 MB 1.1 MB/s eta 0:00:05\n",
      "   ------------------------- -------------- 8.7/13.7 MB 1.2 MB/s eta 0:00:05\n",
      "   -------------------------- ------------- 8.9/13.7 MB 1.2 MB/s eta 0:00:05\n",
      "   -------------------------- ------------- 9.2/13.7 MB 1.2 MB/s eta 0:00:04\n",
      "   --------------------------- ------------ 9.4/13.7 MB 1.2 MB/s eta 0:00:04\n",
      "   ---------------------------- ----------- 9.7/13.7 MB 1.2 MB/s eta 0:00:04\n",
      "   ----------------------------- ---------- 10.0/13.7 MB 1.2 MB/s eta 0:00:04\n",
      "   ----------------------------- ---------- 10.0/13.7 MB 1.2 MB/s eta 0:00:04\n",
      "   ----------------------------- ---------- 10.2/13.7 MB 1.1 MB/s eta 0:00:04\n",
      "   ----------------------------- ---------- 10.2/13.7 MB 1.1 MB/s eta 0:00:04\n",
      "   ------------------------------ --------- 10.5/13.7 MB 1.1 MB/s eta 0:00:03\n",
      "   ------------------------------ --------- 10.5/13.7 MB 1.1 MB/s eta 0:00:03\n",
      "   ------------------------------- -------- 10.7/13.7 MB 1.1 MB/s eta 0:00:03\n",
      "   ------------------------------- -------- 10.7/13.7 MB 1.1 MB/s eta 0:00:03\n",
      "   -------------------------------- ------- 11.0/13.7 MB 1.1 MB/s eta 0:00:03\n",
      "   -------------------------------- ------- 11.3/13.7 MB 1.1 MB/s eta 0:00:03\n",
      "   -------------------------------- ------- 11.3/13.7 MB 1.1 MB/s eta 0:00:03\n",
      "   --------------------------------- ------ 11.5/13.7 MB 1.1 MB/s eta 0:00:03\n",
      "   --------------------------------- ------ 11.5/13.7 MB 1.1 MB/s eta 0:00:03\n",
      "   ---------------------------------- ----- 11.8/13.7 MB 1.0 MB/s eta 0:00:02\n",
      "   ---------------------------------- ----- 11.8/13.7 MB 1.0 MB/s eta 0:00:02\n",
      "   ----------------------------------- ---- 12.1/13.7 MB 1.0 MB/s eta 0:00:02\n",
      "   ------------------------------------ --- 12.3/13.7 MB 1.0 MB/s eta 0:00:02\n",
      "   ------------------------------------ --- 12.6/13.7 MB 1.0 MB/s eta 0:00:02\n",
      "   ------------------------------------- -- 12.8/13.7 MB 1.0 MB/s eta 0:00:01\n",
      "   ------------------------------------- -- 12.8/13.7 MB 1.0 MB/s eta 0:00:01\n",
      "   -------------------------------------- - 13.1/13.7 MB 1.0 MB/s eta 0:00:01\n",
      "   ---------------------------------------  13.4/13.7 MB 1.0 MB/s eta 0:00:01\n",
      "   ---------------------------------------- 13.7/13.7 MB 1.0 MB/s eta 0:00:00\n",
      "Installing collected packages: faiss-cpu\n",
      "Successfully installed faiss-cpu-1.10.0\n",
      "Collecting sentence-transformers\n",
      "  Downloading sentence_transformers-4.0.1-py3-none-any.whl.metadata (13 kB)\n",
      "Collecting transformers<5.0.0,>=4.41.0 (from sentence-transformers)\n",
      "  Downloading transformers-4.50.1-py3-none-any.whl.metadata (39 kB)\n",
      "Requirement already satisfied: tqdm in c:\\python313\\lib\\site-packages (from sentence-transformers) (4.67.1)\n",
      "Collecting torch>=1.11.0 (from sentence-transformers)\n",
      "  Using cached torch-2.6.0-cp313-cp313-win_amd64.whl.metadata (28 kB)\n",
      "Requirement already satisfied: scikit-learn in c:\\python313\\lib\\site-packages (from sentence-transformers) (1.6.1)\n",
      "Requirement already satisfied: scipy in c:\\python313\\lib\\site-packages (from sentence-transformers) (1.15.2)\n",
      "Collecting huggingface-hub>=0.20.0 (from sentence-transformers)\n",
      "  Downloading huggingface_hub-0.29.3-py3-none-any.whl.metadata (13 kB)\n",
      "Collecting Pillow (from sentence-transformers)\n",
      "  Downloading pillow-11.1.0-cp313-cp313-win_amd64.whl.metadata (9.3 kB)\n",
      "Requirement already satisfied: typing_extensions>=4.5.0 in c:\\python313\\lib\\site-packages (from sentence-transformers) (4.12.2)\n",
      "Collecting filelock (from huggingface-hub>=0.20.0->sentence-transformers)\n",
      "  Downloading filelock-3.18.0-py3-none-any.whl.metadata (2.9 kB)\n",
      "Collecting fsspec>=2023.5.0 (from huggingface-hub>=0.20.0->sentence-transformers)\n",
      "  Downloading fsspec-2025.3.0-py3-none-any.whl.metadata (11 kB)\n",
      "Requirement already satisfied: packaging>=20.9 in c:\\python313\\lib\\site-packages (from huggingface-hub>=0.20.0->sentence-transformers) (24.2)\n",
      "Requirement already satisfied: pyyaml>=5.1 in c:\\python313\\lib\\site-packages (from huggingface-hub>=0.20.0->sentence-transformers) (6.0.2)\n",
      "Requirement already satisfied: requests in c:\\python313\\lib\\site-packages (from huggingface-hub>=0.20.0->sentence-transformers) (2.32.3)\n",
      "Collecting networkx (from torch>=1.11.0->sentence-transformers)\n",
      "  Using cached networkx-3.4.2-py3-none-any.whl.metadata (6.3 kB)\n",
      "Requirement already satisfied: jinja2 in c:\\python313\\lib\\site-packages (from torch>=1.11.0->sentence-transformers) (3.1.6)\n",
      "Requirement already satisfied: setuptools in c:\\python313\\lib\\site-packages (from torch>=1.11.0->sentence-transformers) (76.1.0)\n",
      "Collecting sympy==1.13.1 (from torch>=1.11.0->sentence-transformers)\n",
      "  Using cached sympy-1.13.1-py3-none-any.whl.metadata (12 kB)\n",
      "Collecting mpmath<1.4,>=1.1.0 (from sympy==1.13.1->torch>=1.11.0->sentence-transformers)\n",
      "  Using cached mpmath-1.3.0-py3-none-any.whl.metadata (8.6 kB)\n",
      "Requirement already satisfied: colorama in c:\\python313\\lib\\site-packages (from tqdm->sentence-transformers) (0.4.6)\n",
      "Requirement already satisfied: numpy>=1.17 in c:\\python313\\lib\\site-packages (from transformers<5.0.0,>=4.41.0->sentence-transformers) (1.26.4)\n",
      "Requirement already satisfied: regex!=2019.12.17 in c:\\python313\\lib\\site-packages (from transformers<5.0.0,>=4.41.0->sentence-transformers) (2024.11.6)\n",
      "Collecting tokenizers<0.22,>=0.21 (from transformers<5.0.0,>=4.41.0->sentence-transformers)\n",
      "  Downloading tokenizers-0.21.1-cp39-abi3-win_amd64.whl.metadata (6.9 kB)\n",
      "Collecting safetensors>=0.4.3 (from transformers<5.0.0,>=4.41.0->sentence-transformers)\n",
      "  Downloading safetensors-0.5.3-cp38-abi3-win_amd64.whl.metadata (3.9 kB)\n",
      "Requirement already satisfied: joblib>=1.2.0 in c:\\python313\\lib\\site-packages (from scikit-learn->sentence-transformers) (1.4.2)\n",
      "Requirement already satisfied: threadpoolctl>=3.1.0 in c:\\python313\\lib\\site-packages (from scikit-learn->sentence-transformers) (3.6.0)\n",
      "Requirement already satisfied: MarkupSafe>=2.0 in c:\\python313\\lib\\site-packages (from jinja2->torch>=1.11.0->sentence-transformers) (3.0.2)\n",
      "Requirement already satisfied: charset-normalizer<4,>=2 in c:\\python313\\lib\\site-packages (from requests->huggingface-hub>=0.20.0->sentence-transformers) (3.4.1)\n",
      "Requirement already satisfied: idna<4,>=2.5 in c:\\python313\\lib\\site-packages (from requests->huggingface-hub>=0.20.0->sentence-transformers) (3.10)\n",
      "Requirement already satisfied: urllib3<3,>=1.21.1 in c:\\python313\\lib\\site-packages (from requests->huggingface-hub>=0.20.0->sentence-transformers) (2.3.0)\n",
      "Requirement already satisfied: certifi>=2017.4.17 in c:\\python313\\lib\\site-packages (from requests->huggingface-hub>=0.20.0->sentence-transformers) (2025.1.31)\n",
      "Downloading sentence_transformers-4.0.1-py3-none-any.whl (340 kB)\n",
      "Downloading huggingface_hub-0.29.3-py3-none-any.whl (468 kB)\n",
      "Downloading torch-2.6.0-cp313-cp313-win_amd64.whl (204.1 MB)\n",
      "   ---------------------------------------- 0.0/204.1 MB ? eta -:--:--\n",
      "   ---------------------------------------- 1.0/204.1 MB 7.1 MB/s eta 0:00:29\n",
      "    --------------------------------------- 2.6/204.1 MB 6.9 MB/s eta 0:00:30\n",
      "    --------------------------------------- 3.1/204.1 MB 5.3 MB/s eta 0:00:38\n",
      "    --------------------------------------- 3.7/204.1 MB 4.8 MB/s eta 0:00:42\n",
      "    --------------------------------------- 4.5/204.1 MB 4.5 MB/s eta 0:00:45\n",
      "   - -------------------------------------- 5.2/204.1 MB 4.4 MB/s eta 0:00:46\n",
      "   - -------------------------------------- 5.8/204.1 MB 4.5 MB/s eta 0:00:45\n",
      "   - -------------------------------------- 6.3/204.1 MB 3.9 MB/s eta 0:00:51\n",
      "   - -------------------------------------- 6.6/204.1 MB 3.7 MB/s eta 0:00:54\n",
      "   - -------------------------------------- 6.8/204.1 MB 3.4 MB/s eta 0:00:59\n",
      "   - -------------------------------------- 7.3/204.1 MB 3.2 MB/s eta 0:01:02\n",
      "   - -------------------------------------- 7.6/204.1 MB 3.1 MB/s eta 0:01:03\n",
      "   - -------------------------------------- 8.1/204.1 MB 3.0 MB/s eta 0:01:06\n",
      "   - -------------------------------------- 8.4/204.1 MB 2.9 MB/s eta 0:01:08\n",
      "   - -------------------------------------- 8.7/204.1 MB 2.8 MB/s eta 0:01:10\n",
      "   - -------------------------------------- 9.2/204.1 MB 2.7 MB/s eta 0:01:11\n",
      "   - -------------------------------------- 9.4/204.1 MB 2.7 MB/s eta 0:01:12\n",
      "   -- ------------------------------------- 10.2/204.1 MB 2.7 MB/s eta 0:01:12\n",
      "   -- ------------------------------------- 10.7/204.1 MB 2.7 MB/s eta 0:01:12\n",
      "   -- ------------------------------------- 11.3/204.1 MB 2.7 MB/s eta 0:01:11\n",
      "   -- ------------------------------------- 11.8/204.1 MB 2.7 MB/s eta 0:01:12\n",
      "   -- ------------------------------------- 12.1/204.1 MB 2.7 MB/s eta 0:01:13\n",
      "   -- ------------------------------------- 12.6/204.1 MB 2.6 MB/s eta 0:01:13\n",
      "   -- ------------------------------------- 12.8/204.1 MB 2.6 MB/s eta 0:01:14\n",
      "   -- ------------------------------------- 13.4/204.1 MB 2.6 MB/s eta 0:01:15\n",
      "   -- ------------------------------------- 14.2/204.1 MB 2.6 MB/s eta 0:01:14\n",
      "   -- ------------------------------------- 14.9/204.1 MB 2.6 MB/s eta 0:01:12\n",
      "   --- ------------------------------------ 15.5/204.1 MB 2.6 MB/s eta 0:01:12\n",
      "   --- ------------------------------------ 16.5/204.1 MB 2.7 MB/s eta 0:01:10\n",
      "   --- ------------------------------------ 17.3/204.1 MB 2.7 MB/s eta 0:01:09\n",
      "   --- ------------------------------------ 18.1/204.1 MB 2.8 MB/s eta 0:01:08\n",
      "   --- ------------------------------------ 18.9/204.1 MB 2.8 MB/s eta 0:01:07\n",
      "   --- ------------------------------------ 19.7/204.1 MB 2.9 MB/s eta 0:01:05\n",
      "   ---- ----------------------------------- 20.4/204.1 MB 2.9 MB/s eta 0:01:05\n",
      "   ---- ----------------------------------- 21.0/204.1 MB 2.9 MB/s eta 0:01:04\n",
      "   ---- ----------------------------------- 21.5/204.1 MB 2.9 MB/s eta 0:01:04\n",
      "   ---- ----------------------------------- 22.0/204.1 MB 2.8 MB/s eta 0:01:05\n",
      "   ---- ----------------------------------- 22.5/204.1 MB 2.8 MB/s eta 0:01:05\n",
      "   ---- ----------------------------------- 23.1/204.1 MB 2.8 MB/s eta 0:01:04\n",
      "   ---- ----------------------------------- 23.6/204.1 MB 2.8 MB/s eta 0:01:05\n",
      "   ---- ----------------------------------- 24.1/204.1 MB 2.8 MB/s eta 0:01:04\n",
      "   ---- ----------------------------------- 24.6/204.1 MB 2.8 MB/s eta 0:01:04\n",
      "   ---- ----------------------------------- 25.4/204.1 MB 2.8 MB/s eta 0:01:04\n",
      "   ----- ---------------------------------- 26.0/204.1 MB 2.8 MB/s eta 0:01:03\n",
      "   ----- ---------------------------------- 26.5/204.1 MB 2.8 MB/s eta 0:01:04\n",
      "   ----- ---------------------------------- 26.7/204.1 MB 2.8 MB/s eta 0:01:04\n",
      "   ----- ---------------------------------- 27.3/204.1 MB 2.8 MB/s eta 0:01:04\n",
      "   ----- ---------------------------------- 27.8/204.1 MB 2.8 MB/s eta 0:01:04\n",
      "   ----- ---------------------------------- 28.3/204.1 MB 2.8 MB/s eta 0:01:04\n",
      "   ----- ---------------------------------- 28.8/204.1 MB 2.8 MB/s eta 0:01:04\n",
      "   ----- ---------------------------------- 29.4/204.1 MB 2.8 MB/s eta 0:01:04\n",
      "   ----- ---------------------------------- 29.9/204.1 MB 2.8 MB/s eta 0:01:04\n",
      "   ----- ---------------------------------- 30.4/204.1 MB 2.8 MB/s eta 0:01:04\n",
      "   ------ --------------------------------- 30.9/204.1 MB 2.7 MB/s eta 0:01:04\n",
      "   ------ --------------------------------- 31.2/204.1 MB 2.7 MB/s eta 0:01:04\n",
      "   ------ --------------------------------- 32.0/204.1 MB 2.7 MB/s eta 0:01:04\n",
      "   ------ --------------------------------- 32.5/204.1 MB 2.7 MB/s eta 0:01:04\n",
      "   ------ --------------------------------- 33.0/204.1 MB 2.7 MB/s eta 0:01:04\n",
      "   ------ --------------------------------- 33.3/204.1 MB 2.7 MB/s eta 0:01:04\n",
      "   ------ --------------------------------- 33.8/204.1 MB 2.7 MB/s eta 0:01:04\n",
      "   ------ --------------------------------- 34.6/204.1 MB 2.7 MB/s eta 0:01:03\n",
      "   ------ --------------------------------- 35.4/204.1 MB 2.7 MB/s eta 0:01:03\n",
      "   ------- -------------------------------- 35.9/204.1 MB 2.7 MB/s eta 0:01:02\n",
      "   ------- -------------------------------- 36.7/204.1 MB 2.7 MB/s eta 0:01:02\n",
      "   ------- -------------------------------- 37.5/204.1 MB 2.8 MB/s eta 0:01:01\n",
      "   ------- -------------------------------- 38.5/204.1 MB 2.8 MB/s eta 0:01:00\n",
      "   ------- -------------------------------- 39.3/204.1 MB 2.8 MB/s eta 0:00:59\n",
      "   ------- -------------------------------- 40.1/204.1 MB 2.8 MB/s eta 0:00:59\n",
      "   -------- ------------------------------- 40.9/204.1 MB 2.8 MB/s eta 0:00:58\n",
      "   -------- ------------------------------- 41.7/204.1 MB 2.8 MB/s eta 0:00:58\n",
      "   -------- ------------------------------- 42.7/204.1 MB 2.9 MB/s eta 0:00:57\n",
      "   -------- ------------------------------- 43.0/204.1 MB 2.9 MB/s eta 0:00:57\n",
      "   -------- ------------------------------- 43.8/204.1 MB 2.9 MB/s eta 0:00:56\n",
      "   -------- ------------------------------- 44.6/204.1 MB 2.9 MB/s eta 0:00:56\n",
      "   -------- ------------------------------- 45.4/204.1 MB 2.9 MB/s eta 0:00:55\n",
      "   --------- ------------------------------ 46.1/204.1 MB 2.9 MB/s eta 0:00:55\n",
      "   --------- ------------------------------ 46.7/204.1 MB 2.9 MB/s eta 0:00:55\n",
      "   --------- ------------------------------ 47.2/204.1 MB 2.9 MB/s eta 0:00:55\n",
      "   --------- ------------------------------ 48.0/204.1 MB 2.9 MB/s eta 0:00:54\n",
      "   --------- ------------------------------ 48.5/204.1 MB 2.9 MB/s eta 0:00:54\n",
      "   --------- ------------------------------ 49.0/204.1 MB 2.9 MB/s eta 0:00:54\n",
      "   --------- ------------------------------ 49.5/204.1 MB 2.9 MB/s eta 0:00:54\n",
      "   --------- ------------------------------ 50.1/204.1 MB 2.9 MB/s eta 0:00:54\n",
      "   --------- ------------------------------ 50.6/204.1 MB 2.9 MB/s eta 0:00:54\n",
      "   ---------- ----------------------------- 51.1/204.1 MB 2.9 MB/s eta 0:00:54\n",
      "   ---------- ----------------------------- 51.9/204.1 MB 2.9 MB/s eta 0:00:53\n",
      "   ---------- ----------------------------- 52.4/204.1 MB 2.9 MB/s eta 0:00:53\n",
      "   ---------- ----------------------------- 53.0/204.1 MB 2.9 MB/s eta 0:00:53\n",
      "   ---------- ----------------------------- 53.2/204.1 MB 2.9 MB/s eta 0:00:53\n",
      "   ---------- ----------------------------- 53.5/204.1 MB 2.8 MB/s eta 0:00:53\n",
      "   ---------- ----------------------------- 54.0/204.1 MB 2.8 MB/s eta 0:00:53\n",
      "   ---------- ----------------------------- 54.3/204.1 MB 2.8 MB/s eta 0:00:53\n",
      "   ---------- ----------------------------- 54.8/204.1 MB 2.8 MB/s eta 0:00:53\n",
      "   ---------- ----------------------------- 55.3/204.1 MB 2.8 MB/s eta 0:00:53\n",
      "   ---------- ----------------------------- 55.6/204.1 MB 2.8 MB/s eta 0:00:54\n",
      "   ---------- ----------------------------- 56.1/204.1 MB 2.8 MB/s eta 0:00:54\n",
      "   ----------- ---------------------------- 56.6/204.1 MB 2.8 MB/s eta 0:00:53\n",
      "   ----------- ---------------------------- 57.1/204.1 MB 2.8 MB/s eta 0:00:53\n",
      "   ----------- ---------------------------- 57.4/204.1 MB 2.8 MB/s eta 0:00:54\n",
      "   ----------- ---------------------------- 57.7/204.1 MB 2.8 MB/s eta 0:00:54\n",
      "   ----------- ---------------------------- 57.9/204.1 MB 2.7 MB/s eta 0:00:54\n",
      "   ----------- ---------------------------- 58.2/204.1 MB 2.7 MB/s eta 0:00:54\n",
      "   ----------- ---------------------------- 58.5/204.1 MB 2.7 MB/s eta 0:00:54\n",
      "   ----------- ---------------------------- 58.7/204.1 MB 2.7 MB/s eta 0:00:54\n",
      "   ----------- ---------------------------- 59.0/204.1 MB 2.7 MB/s eta 0:00:54\n",
      "   ----------- ---------------------------- 59.2/204.1 MB 2.7 MB/s eta 0:00:55\n",
      "   ----------- ---------------------------- 59.8/204.1 MB 2.7 MB/s eta 0:00:55\n",
      "   ----------- ---------------------------- 60.0/204.1 MB 2.7 MB/s eta 0:00:55\n",
      "   ----------- ---------------------------- 60.3/204.1 MB 2.7 MB/s eta 0:00:55\n",
      "   ----------- ---------------------------- 60.6/204.1 MB 2.6 MB/s eta 0:00:55\n",
      "   ----------- ---------------------------- 61.1/204.1 MB 2.6 MB/s eta 0:00:55\n",
      "   ------------ --------------------------- 61.3/204.1 MB 2.6 MB/s eta 0:00:55\n",
      "   ------------ --------------------------- 61.3/204.1 MB 2.6 MB/s eta 0:00:55\n",
      "   ------------ --------------------------- 61.9/204.1 MB 2.6 MB/s eta 0:00:55\n",
      "   ------------ --------------------------- 62.4/204.1 MB 2.6 MB/s eta 0:00:55\n",
      "   ------------ --------------------------- 62.7/204.1 MB 2.6 MB/s eta 0:00:55\n",
      "   ------------ --------------------------- 63.2/204.1 MB 2.6 MB/s eta 0:00:55\n",
      "   ------------ --------------------------- 63.7/204.1 MB 2.6 MB/s eta 0:00:55\n",
      "   ------------ --------------------------- 64.0/204.1 MB 2.6 MB/s eta 0:00:55\n",
      "   ------------ --------------------------- 64.2/204.1 MB 2.6 MB/s eta 0:00:55\n",
      "   ------------ --------------------------- 64.7/204.1 MB 2.6 MB/s eta 0:00:55\n",
      "   ------------ --------------------------- 65.0/204.1 MB 2.6 MB/s eta 0:00:55\n",
      "   ------------ --------------------------- 65.3/204.1 MB 2.6 MB/s eta 0:00:55\n",
      "   ------------ --------------------------- 65.8/204.1 MB 2.5 MB/s eta 0:00:55\n",
      "   ------------ --------------------------- 66.1/204.1 MB 2.5 MB/s eta 0:00:55\n",
      "   ------------ --------------------------- 66.3/204.1 MB 2.5 MB/s eta 0:00:55\n",
      "   ------------- -------------------------- 66.6/204.1 MB 2.5 MB/s eta 0:00:55\n",
      "   ------------- -------------------------- 66.8/204.1 MB 2.5 MB/s eta 0:00:55\n",
      "   ------------- -------------------------- 67.4/204.1 MB 2.5 MB/s eta 0:00:55\n",
      "   ------------- -------------------------- 67.6/204.1 MB 2.5 MB/s eta 0:00:55\n",
      "   ------------- -------------------------- 67.9/204.1 MB 2.5 MB/s eta 0:00:55\n",
      "   ------------- -------------------------- 68.2/204.1 MB 2.5 MB/s eta 0:00:55\n",
      "   ------------- -------------------------- 68.4/204.1 MB 2.5 MB/s eta 0:00:55\n",
      "   ------------- -------------------------- 68.9/204.1 MB 2.5 MB/s eta 0:00:55\n",
      "   ------------- -------------------------- 69.2/204.1 MB 2.5 MB/s eta 0:00:55\n",
      "   ------------- -------------------------- 69.7/204.1 MB 2.5 MB/s eta 0:00:55\n",
      "   ------------- -------------------------- 70.0/204.1 MB 2.5 MB/s eta 0:00:55\n",
      "   ------------- -------------------------- 70.5/204.1 MB 2.4 MB/s eta 0:00:55\n",
      "   ------------- -------------------------- 71.0/204.1 MB 2.4 MB/s eta 0:00:55\n",
      "   -------------- ------------------------- 71.6/204.1 MB 2.4 MB/s eta 0:00:55\n",
      "   -------------- ------------------------- 71.8/204.1 MB 2.4 MB/s eta 0:00:55\n",
      "   -------------- ------------------------- 72.4/204.1 MB 2.4 MB/s eta 0:00:55\n",
      "   -------------- ------------------------- 72.6/204.1 MB 2.4 MB/s eta 0:00:55\n",
      "   -------------- ------------------------- 73.1/204.1 MB 2.4 MB/s eta 0:00:54\n",
      "   -------------- ------------------------- 73.7/204.1 MB 2.4 MB/s eta 0:00:55\n",
      "   -------------- ------------------------- 74.2/204.1 MB 2.4 MB/s eta 0:00:55\n",
      "   -------------- ------------------------- 74.7/204.1 MB 2.4 MB/s eta 0:00:55\n",
      "   -------------- ------------------------- 75.2/204.1 MB 2.4 MB/s eta 0:00:55\n",
      "   -------------- ------------------------- 76.0/204.1 MB 2.4 MB/s eta 0:00:54\n",
      "   -------------- ------------------------- 76.5/204.1 MB 2.4 MB/s eta 0:00:55\n",
      "   --------------- ------------------------ 77.3/204.1 MB 2.4 MB/s eta 0:00:54\n",
      "   --------------- ------------------------ 77.9/204.1 MB 2.4 MB/s eta 0:00:54\n",
      "   --------------- ------------------------ 78.6/204.1 MB 2.4 MB/s eta 0:00:53\n",
      "   --------------- ------------------------ 79.2/204.1 MB 2.4 MB/s eta 0:00:53\n",
      "   --------------- ------------------------ 80.0/204.1 MB 2.4 MB/s eta 0:00:52\n",
      "   --------------- ------------------------ 80.5/204.1 MB 2.4 MB/s eta 0:00:52\n",
      "   --------------- ------------------------ 81.3/204.1 MB 2.4 MB/s eta 0:00:51\n",
      "   ---------------- ----------------------- 82.3/204.1 MB 2.5 MB/s eta 0:00:50\n",
      "   ---------------- ----------------------- 83.1/204.1 MB 2.5 MB/s eta 0:00:49\n",
      "   ---------------- ----------------------- 83.6/204.1 MB 2.5 MB/s eta 0:00:49\n",
      "   ---------------- ----------------------- 84.4/204.1 MB 2.5 MB/s eta 0:00:49\n",
      "   ---------------- ----------------------- 85.2/204.1 MB 2.5 MB/s eta 0:00:48\n",
      "   ---------------- ----------------------- 85.7/204.1 MB 2.5 MB/s eta 0:00:48\n",
      "   ---------------- ----------------------- 86.2/204.1 MB 2.5 MB/s eta 0:00:48\n",
      "   ----------------- ---------------------- 87.0/204.1 MB 2.5 MB/s eta 0:00:47\n",
      "   ----------------- ---------------------- 87.6/204.1 MB 2.5 MB/s eta 0:00:47\n",
      "   ----------------- ---------------------- 88.1/204.1 MB 2.5 MB/s eta 0:00:47\n",
      "   ----------------- ---------------------- 88.9/204.1 MB 2.5 MB/s eta 0:00:46\n",
      "   ----------------- ---------------------- 89.4/204.1 MB 2.5 MB/s eta 0:00:46\n",
      "   ----------------- ---------------------- 89.7/204.1 MB 2.5 MB/s eta 0:00:46\n",
      "   ----------------- ---------------------- 90.4/204.1 MB 2.5 MB/s eta 0:00:46\n",
      "   ----------------- ---------------------- 91.0/204.1 MB 2.5 MB/s eta 0:00:46\n",
      "   ----------------- ---------------------- 91.8/204.1 MB 2.5 MB/s eta 0:00:46\n",
      "   ------------------ --------------------- 92.3/204.1 MB 2.5 MB/s eta 0:00:46\n",
      "   ------------------ --------------------- 92.5/204.1 MB 2.5 MB/s eta 0:00:46\n",
      "   ------------------ --------------------- 93.1/204.1 MB 2.5 MB/s eta 0:00:46\n",
      "   ------------------ --------------------- 93.8/204.1 MB 2.5 MB/s eta 0:00:45\n",
      "   ------------------ --------------------- 94.4/204.1 MB 2.5 MB/s eta 0:00:45\n",
      "   ------------------ --------------------- 94.9/204.1 MB 2.5 MB/s eta 0:00:45\n",
      "   ------------------ --------------------- 95.7/204.1 MB 2.5 MB/s eta 0:00:45\n",
      "   ------------------ --------------------- 96.2/204.1 MB 2.5 MB/s eta 0:00:44\n",
      "   ------------------ --------------------- 96.5/204.1 MB 2.5 MB/s eta 0:00:44\n",
      "   ------------------ --------------------- 96.7/204.1 MB 2.5 MB/s eta 0:00:44\n",
      "   ------------------- -------------------- 97.0/204.1 MB 2.4 MB/s eta 0:00:44\n",
      "   ------------------- -------------------- 97.5/204.1 MB 2.4 MB/s eta 0:00:44\n",
      "   ------------------- -------------------- 98.3/204.1 MB 2.4 MB/s eta 0:00:44\n",
      "   ------------------- -------------------- 98.8/204.1 MB 2.4 MB/s eta 0:00:44\n",
      "   ------------------- -------------------- 99.4/204.1 MB 2.4 MB/s eta 0:00:43\n",
      "   ------------------- -------------------- 99.9/204.1 MB 2.4 MB/s eta 0:00:43\n",
      "   ------------------- -------------------- 100.7/204.1 MB 2.5 MB/s eta 0:00:43\n",
      "   ------------------- -------------------- 101.2/204.1 MB 2.5 MB/s eta 0:00:42\n",
      "   ------------------- -------------------- 101.7/204.1 MB 2.5 MB/s eta 0:00:42\n",
      "   -------------------- ------------------- 102.2/204.1 MB 2.5 MB/s eta 0:00:42\n",
      "   -------------------- ------------------- 102.5/204.1 MB 2.5 MB/s eta 0:00:42\n",
      "   -------------------- ------------------- 103.0/204.1 MB 2.4 MB/s eta 0:00:42\n",
      "   -------------------- ------------------- 103.3/204.1 MB 2.4 MB/s eta 0:00:42\n",
      "   -------------------- ------------------- 103.8/204.1 MB 2.4 MB/s eta 0:00:42\n",
      "   -------------------- ------------------- 104.3/204.1 MB 2.4 MB/s eta 0:00:41\n",
      "   -------------------- ------------------- 104.9/204.1 MB 2.4 MB/s eta 0:00:41\n",
      "   -------------------- ------------------- 105.1/204.1 MB 2.4 MB/s eta 0:00:41\n",
      "   -------------------- ------------------- 105.4/204.1 MB 2.4 MB/s eta 0:00:41\n",
      "   -------------------- ------------------- 105.9/204.1 MB 2.4 MB/s eta 0:00:41\n",
      "   -------------------- ------------------- 106.4/204.1 MB 2.4 MB/s eta 0:00:41\n",
      "   -------------------- ------------------- 107.0/204.1 MB 2.4 MB/s eta 0:00:41\n",
      "   --------------------- ------------------ 107.2/204.1 MB 2.4 MB/s eta 0:00:41\n",
      "   --------------------- ------------------ 107.7/204.1 MB 2.4 MB/s eta 0:00:41\n",
      "   --------------------- ------------------ 108.0/204.1 MB 2.4 MB/s eta 0:00:41\n",
      "   --------------------- ------------------ 108.3/204.1 MB 2.4 MB/s eta 0:00:41\n",
      "   --------------------- ------------------ 108.8/204.1 MB 2.4 MB/s eta 0:00:41\n",
      "   --------------------- ------------------ 109.3/204.1 MB 2.4 MB/s eta 0:00:41\n",
      "   --------------------- ------------------ 109.6/204.1 MB 2.3 MB/s eta 0:00:41\n",
      "   --------------------- ------------------ 109.8/204.1 MB 2.3 MB/s eta 0:00:41\n",
      "   --------------------- ------------------ 110.4/204.1 MB 2.3 MB/s eta 0:00:41\n",
      "   --------------------- ------------------ 110.6/204.1 MB 2.3 MB/s eta 0:00:41\n",
      "   --------------------- ------------------ 110.9/204.1 MB 2.3 MB/s eta 0:00:42\n",
      "   --------------------- ------------------ 111.1/204.1 MB 2.3 MB/s eta 0:00:42\n",
      "   --------------------- ------------------ 111.4/204.1 MB 2.2 MB/s eta 0:00:42\n",
      "   --------------------- ------------------ 111.7/204.1 MB 2.2 MB/s eta 0:00:42\n",
      "   --------------------- ------------------ 111.9/204.1 MB 2.2 MB/s eta 0:00:42\n",
      "   --------------------- ------------------ 111.9/204.1 MB 2.2 MB/s eta 0:00:42\n",
      "   --------------------- ------------------ 112.2/204.1 MB 2.2 MB/s eta 0:00:43\n",
      "   ---------------------- ----------------- 112.5/204.1 MB 2.2 MB/s eta 0:00:43\n",
      "   ---------------------- ----------------- 112.7/204.1 MB 2.2 MB/s eta 0:00:43\n",
      "   ---------------------- ----------------- 113.0/204.1 MB 2.1 MB/s eta 0:00:43\n",
      "   ---------------------- ----------------- 113.0/204.1 MB 2.1 MB/s eta 0:00:43\n",
      "   ---------------------- ----------------- 113.2/204.1 MB 2.1 MB/s eta 0:00:43\n",
      "   ---------------------- ----------------- 113.5/204.1 MB 2.1 MB/s eta 0:00:44\n",
      "   ---------------------- ----------------- 113.5/204.1 MB 2.1 MB/s eta 0:00:44\n",
      "   ---------------------- ----------------- 113.8/204.1 MB 2.1 MB/s eta 0:00:44\n",
      "   ---------------------- ----------------- 114.0/204.1 MB 2.1 MB/s eta 0:00:44\n",
      "   ---------------------- ----------------- 114.3/204.1 MB 2.1 MB/s eta 0:00:44\n",
      "   ---------------------- ----------------- 114.6/204.1 MB 2.1 MB/s eta 0:00:44\n",
      "   ---------------------- ----------------- 114.6/204.1 MB 2.1 MB/s eta 0:00:44\n",
      "   ---------------------- ----------------- 114.8/204.1 MB 2.0 MB/s eta 0:00:44\n",
      "   ---------------------- ----------------- 114.8/204.1 MB 2.0 MB/s eta 0:00:44\n",
      "   ---------------------- ----------------- 115.1/204.1 MB 2.0 MB/s eta 0:00:44\n",
      "   ---------------------- ----------------- 115.3/204.1 MB 2.0 MB/s eta 0:00:45\n",
      "   ---------------------- ----------------- 115.6/204.1 MB 2.0 MB/s eta 0:00:45\n",
      "   ---------------------- ----------------- 115.6/204.1 MB 2.0 MB/s eta 0:00:45\n",
      "   ---------------------- ----------------- 115.9/204.1 MB 2.0 MB/s eta 0:00:45\n",
      "   ---------------------- ----------------- 115.9/204.1 MB 2.0 MB/s eta 0:00:45\n",
      "   ---------------------- ----------------- 116.1/204.1 MB 2.0 MB/s eta 0:00:45\n",
      "   ---------------------- ----------------- 116.4/204.1 MB 2.0 MB/s eta 0:00:45\n",
      "   ---------------------- ----------------- 116.4/204.1 MB 2.0 MB/s eta 0:00:45\n",
      "   ---------------------- ----------------- 116.7/204.1 MB 2.0 MB/s eta 0:00:45\n",
      "   ---------------------- ----------------- 116.9/204.1 MB 2.0 MB/s eta 0:00:45\n",
      "   ---------------------- ----------------- 117.2/204.1 MB 2.0 MB/s eta 0:00:45\n",
      "   ----------------------- ---------------- 117.4/204.1 MB 1.9 MB/s eta 0:00:45\n",
      "   ----------------------- ---------------- 117.7/204.1 MB 1.9 MB/s eta 0:00:45\n",
      "   ----------------------- ---------------- 117.7/204.1 MB 1.9 MB/s eta 0:00:45\n",
      "   ----------------------- ---------------- 118.0/204.1 MB 1.9 MB/s eta 0:00:45\n",
      "   ----------------------- ---------------- 118.2/204.1 MB 1.9 MB/s eta 0:00:45\n",
      "   ----------------------- ---------------- 118.5/204.1 MB 1.9 MB/s eta 0:00:45\n",
      "   ----------------------- ---------------- 118.8/204.1 MB 1.9 MB/s eta 0:00:45\n",
      "   ----------------------- ---------------- 119.0/204.1 MB 1.9 MB/s eta 0:00:45\n",
      "   ----------------------- ---------------- 119.5/204.1 MB 1.9 MB/s eta 0:00:44\n",
      "   ----------------------- ---------------- 119.8/204.1 MB 1.9 MB/s eta 0:00:44\n",
      "   ----------------------- ---------------- 120.3/204.1 MB 1.9 MB/s eta 0:00:44\n",
      "   ----------------------- ---------------- 120.6/204.1 MB 1.9 MB/s eta 0:00:44\n",
      "   ----------------------- ---------------- 121.1/204.1 MB 1.9 MB/s eta 0:00:44\n",
      "   ----------------------- ---------------- 121.1/204.1 MB 1.9 MB/s eta 0:00:44\n",
      "   ----------------------- ---------------- 121.6/204.1 MB 1.9 MB/s eta 0:00:43\n",
      "   ----------------------- ---------------- 121.9/204.1 MB 1.9 MB/s eta 0:00:43\n",
      "   ----------------------- ---------------- 122.4/204.1 MB 1.9 MB/s eta 0:00:43\n",
      "   ------------------------ --------------- 122.7/204.1 MB 1.9 MB/s eta 0:00:43\n",
      "   ------------------------ --------------- 123.2/204.1 MB 1.9 MB/s eta 0:00:42\n",
      "   ------------------------ --------------- 123.7/204.1 MB 1.9 MB/s eta 0:00:42\n",
      "   ------------------------ --------------- 124.0/204.1 MB 1.9 MB/s eta 0:00:42\n",
      "   ------------------------ --------------- 124.5/204.1 MB 1.9 MB/s eta 0:00:41\n",
      "   ------------------------ --------------- 125.0/204.1 MB 1.9 MB/s eta 0:00:41\n",
      "   ------------------------ --------------- 125.6/204.1 MB 2.0 MB/s eta 0:00:41\n",
      "   ------------------------ --------------- 126.1/204.1 MB 2.0 MB/s eta 0:00:40\n",
      "   ------------------------ --------------- 126.4/204.1 MB 2.0 MB/s eta 0:00:40\n",
      "   ------------------------ --------------- 126.9/204.1 MB 2.0 MB/s eta 0:00:40\n",
      "   ------------------------ --------------- 127.1/204.1 MB 2.0 MB/s eta 0:00:40\n",
      "   ------------------------ --------------- 127.4/204.1 MB 2.0 MB/s eta 0:00:40\n",
      "   ------------------------- -------------- 127.7/204.1 MB 2.0 MB/s eta 0:00:39\n",
      "   ------------------------- -------------- 128.2/204.1 MB 2.0 MB/s eta 0:00:39\n",
      "   ------------------------- -------------- 128.7/204.1 MB 2.0 MB/s eta 0:00:39\n",
      "   ------------------------- -------------- 129.2/204.1 MB 2.0 MB/s eta 0:00:38\n",
      "   ------------------------- -------------- 129.5/204.1 MB 2.0 MB/s eta 0:00:38\n",
      "   ------------------------- -------------- 129.8/204.1 MB 2.0 MB/s eta 0:00:38\n",
      "   ------------------------- -------------- 130.0/204.1 MB 2.0 MB/s eta 0:00:38\n",
      "   ------------------------- -------------- 130.3/204.1 MB 2.0 MB/s eta 0:00:38\n",
      "   ------------------------- -------------- 130.5/204.1 MB 2.0 MB/s eta 0:00:38\n",
      "   ------------------------- -------------- 131.1/204.1 MB 1.9 MB/s eta 0:00:38\n",
      "   ------------------------- -------------- 131.3/204.1 MB 1.9 MB/s eta 0:00:38\n",
      "   ------------------------- -------------- 131.6/204.1 MB 1.9 MB/s eta 0:00:38\n",
      "   ------------------------- -------------- 131.9/204.1 MB 1.9 MB/s eta 0:00:38\n",
      "   ------------------------- -------------- 132.4/204.1 MB 1.9 MB/s eta 0:00:38\n",
      "   ------------------------- -------------- 132.6/204.1 MB 1.9 MB/s eta 0:00:38\n",
      "   -------------------------- ------------- 133.2/204.1 MB 1.9 MB/s eta 0:00:38\n",
      "   -------------------------- ------------- 133.4/204.1 MB 1.9 MB/s eta 0:00:38\n",
      "   -------------------------- ------------- 133.7/204.1 MB 1.9 MB/s eta 0:00:38\n",
      "   -------------------------- ------------- 134.2/204.1 MB 1.9 MB/s eta 0:00:38\n",
      "   -------------------------- ------------- 134.5/204.1 MB 1.9 MB/s eta 0:00:38\n",
      "   -------------------------- ------------- 134.7/204.1 MB 1.9 MB/s eta 0:00:38\n",
      "   -------------------------- ------------- 135.3/204.1 MB 1.9 MB/s eta 0:00:38\n",
      "   -------------------------- ------------- 135.5/204.1 MB 1.8 MB/s eta 0:00:38\n",
      "   -------------------------- ------------- 136.1/204.1 MB 1.8 MB/s eta 0:00:38\n",
      "   -------------------------- ------------- 136.6/204.1 MB 1.8 MB/s eta 0:00:38\n",
      "   -------------------------- ------------- 136.8/204.1 MB 1.8 MB/s eta 0:00:38\n",
      "   -------------------------- ------------- 137.4/204.1 MB 1.8 MB/s eta 0:00:38\n",
      "   -------------------------- ------------- 137.6/204.1 MB 1.8 MB/s eta 0:00:38\n",
      "   --------------------------- ------------ 138.1/204.1 MB 1.8 MB/s eta 0:00:38\n",
      "   --------------------------- ------------ 138.4/204.1 MB 1.8 MB/s eta 0:00:38\n",
      "   --------------------------- ------------ 138.9/204.1 MB 1.8 MB/s eta 0:00:37\n",
      "   --------------------------- ------------ 139.5/204.1 MB 1.8 MB/s eta 0:00:37\n",
      "   --------------------------- ------------ 140.0/204.1 MB 1.7 MB/s eta 0:00:37\n",
      "   --------------------------- ------------ 140.5/204.1 MB 1.7 MB/s eta 0:00:37\n",
      "   --------------------------- ------------ 140.8/204.1 MB 1.7 MB/s eta 0:00:37\n",
      "   --------------------------- ------------ 141.3/204.1 MB 1.7 MB/s eta 0:00:37\n",
      "   --------------------------- ------------ 141.6/204.1 MB 1.7 MB/s eta 0:00:37\n",
      "   --------------------------- ------------ 141.8/204.1 MB 1.7 MB/s eta 0:00:37\n",
      "   --------------------------- ------------ 142.1/204.1 MB 1.7 MB/s eta 0:00:37\n",
      "   --------------------------- ------------ 142.6/204.1 MB 1.7 MB/s eta 0:00:37\n",
      "   --------------------------- ------------ 142.9/204.1 MB 1.7 MB/s eta 0:00:37\n",
      "   ---------------------------- ----------- 143.4/204.1 MB 1.7 MB/s eta 0:00:36\n",
      "   ---------------------------- ----------- 143.7/204.1 MB 1.7 MB/s eta 0:00:36\n",
      "   ---------------------------- ----------- 143.9/204.1 MB 1.7 MB/s eta 0:00:36\n",
      "   ---------------------------- ----------- 144.2/204.1 MB 1.7 MB/s eta 0:00:36\n",
      "   ---------------------------- ----------- 144.4/204.1 MB 1.7 MB/s eta 0:00:36\n",
      "   ---------------------------- ----------- 145.0/204.1 MB 1.6 MB/s eta 0:00:36\n",
      "   ---------------------------- ----------- 145.2/204.1 MB 1.6 MB/s eta 0:00:36\n",
      "   ---------------------------- ----------- 145.5/204.1 MB 1.6 MB/s eta 0:00:36\n",
      "   ---------------------------- ----------- 146.0/204.1 MB 1.6 MB/s eta 0:00:36\n",
      "   ---------------------------- ----------- 146.5/204.1 MB 1.6 MB/s eta 0:00:35\n",
      "   ---------------------------- ----------- 146.8/204.1 MB 1.6 MB/s eta 0:00:35\n",
      "   ---------------------------- ----------- 147.1/204.1 MB 1.6 MB/s eta 0:00:35\n",
      "   ---------------------------- ----------- 147.3/204.1 MB 1.6 MB/s eta 0:00:36\n",
      "   ---------------------------- ----------- 147.6/204.1 MB 1.6 MB/s eta 0:00:36\n",
      "   ----------------------------- ---------- 148.1/204.1 MB 1.6 MB/s eta 0:00:35\n",
      "   ----------------------------- ---------- 148.4/204.1 MB 1.6 MB/s eta 0:00:35\n",
      "   ----------------------------- ---------- 148.9/204.1 MB 1.6 MB/s eta 0:00:35\n",
      "   ----------------------------- ---------- 149.4/204.1 MB 1.6 MB/s eta 0:00:35\n",
      "   ----------------------------- ---------- 149.7/204.1 MB 1.6 MB/s eta 0:00:35\n",
      "   ----------------------------- ---------- 150.2/204.1 MB 1.6 MB/s eta 0:00:34\n",
      "   ----------------------------- ---------- 150.5/204.1 MB 1.6 MB/s eta 0:00:34\n",
      "   ----------------------------- ---------- 151.0/204.1 MB 1.6 MB/s eta 0:00:34\n",
      "   ----------------------------- ---------- 151.3/204.1 MB 1.6 MB/s eta 0:00:34\n",
      "   ----------------------------- ---------- 151.5/204.1 MB 1.6 MB/s eta 0:00:34\n",
      "   ----------------------------- ---------- 151.5/204.1 MB 1.6 MB/s eta 0:00:34\n",
      "   ----------------------------- ---------- 151.8/204.1 MB 1.6 MB/s eta 0:00:34\n",
      "   ----------------------------- ---------- 152.3/204.1 MB 1.6 MB/s eta 0:00:34\n",
      "   ----------------------------- ---------- 152.6/204.1 MB 1.6 MB/s eta 0:00:34\n",
      "   ----------------------------- ---------- 152.8/204.1 MB 1.6 MB/s eta 0:00:33\n",
      "   ------------------------------ --------- 153.4/204.1 MB 1.5 MB/s eta 0:00:33\n",
      "   ------------------------------ --------- 153.6/204.1 MB 1.5 MB/s eta 0:00:33\n",
      "   ------------------------------ --------- 153.9/204.1 MB 1.5 MB/s eta 0:00:33\n",
      "   ------------------------------ --------- 154.1/204.1 MB 1.5 MB/s eta 0:00:33\n",
      "   ------------------------------ --------- 154.7/204.1 MB 1.5 MB/s eta 0:00:33\n",
      "   ------------------------------ --------- 154.9/204.1 MB 1.5 MB/s eta 0:00:32\n",
      "   ------------------------------ --------- 155.5/204.1 MB 1.5 MB/s eta 0:00:32\n",
      "   ------------------------------ --------- 155.7/204.1 MB 1.5 MB/s eta 0:00:32\n",
      "   ------------------------------ --------- 156.0/204.1 MB 1.5 MB/s eta 0:00:32\n",
      "   ------------------------------ --------- 156.5/204.1 MB 1.5 MB/s eta 0:00:31\n",
      "   ------------------------------ --------- 156.8/204.1 MB 1.5 MB/s eta 0:00:31\n",
      "   ------------------------------ --------- 157.3/204.1 MB 1.6 MB/s eta 0:00:31\n",
      "   ------------------------------ --------- 157.8/204.1 MB 1.6 MB/s eta 0:00:30\n",
      "   ------------------------------ --------- 158.1/204.1 MB 1.6 MB/s eta 0:00:30\n",
      "   ------------------------------- -------- 158.6/204.1 MB 1.6 MB/s eta 0:00:30\n",
      "   ------------------------------- -------- 159.1/204.1 MB 1.6 MB/s eta 0:00:29\n",
      "   ------------------------------- -------- 159.4/204.1 MB 1.6 MB/s eta 0:00:29\n",
      "   ------------------------------- -------- 159.6/204.1 MB 1.6 MB/s eta 0:00:29\n",
      "   ------------------------------- -------- 159.9/204.1 MB 1.6 MB/s eta 0:00:28\n",
      "   ------------------------------- -------- 160.2/204.1 MB 1.6 MB/s eta 0:00:28\n",
      "   ------------------------------- -------- 160.7/204.1 MB 1.6 MB/s eta 0:00:28\n",
      "   ------------------------------- -------- 161.0/204.1 MB 1.6 MB/s eta 0:00:27\n",
      "   ------------------------------- -------- 161.5/204.1 MB 1.6 MB/s eta 0:00:27\n",
      "   ------------------------------- -------- 161.7/204.1 MB 1.6 MB/s eta 0:00:27\n",
      "   ------------------------------- -------- 162.3/204.1 MB 1.6 MB/s eta 0:00:26\n",
      "   ------------------------------- -------- 162.5/204.1 MB 1.6 MB/s eta 0:00:26\n",
      "   ------------------------------- -------- 163.1/204.1 MB 1.6 MB/s eta 0:00:26\n",
      "   -------------------------------- ------- 163.3/204.1 MB 1.6 MB/s eta 0:00:25\n",
      "   -------------------------------- ------- 163.6/204.1 MB 1.6 MB/s eta 0:00:25\n",
      "   -------------------------------- ------- 163.8/204.1 MB 1.6 MB/s eta 0:00:25\n",
      "   -------------------------------- ------- 164.1/204.1 MB 1.6 MB/s eta 0:00:25\n",
      "   -------------------------------- ------- 164.6/204.1 MB 1.7 MB/s eta 0:00:24\n",
      "   -------------------------------- ------- 164.9/204.1 MB 1.7 MB/s eta 0:00:24\n",
      "   -------------------------------- ------- 165.4/204.1 MB 1.7 MB/s eta 0:00:24\n",
      "   -------------------------------- ------- 165.7/204.1 MB 1.7 MB/s eta 0:00:23\n",
      "   -------------------------------- ------- 166.2/204.1 MB 1.7 MB/s eta 0:00:23\n",
      "   -------------------------------- ------- 166.5/204.1 MB 1.7 MB/s eta 0:00:23\n",
      "   -------------------------------- ------- 167.0/204.1 MB 1.7 MB/s eta 0:00:22\n",
      "   -------------------------------- ------- 167.2/204.1 MB 1.7 MB/s eta 0:00:22\n",
      "   -------------------------------- ------- 167.8/204.1 MB 1.7 MB/s eta 0:00:22\n",
      "   -------------------------------- ------- 168.0/204.1 MB 1.7 MB/s eta 0:00:21\n",
      "   --------------------------------- ------ 168.6/204.1 MB 1.7 MB/s eta 0:00:21\n",
      "   --------------------------------- ------ 168.8/204.1 MB 1.7 MB/s eta 0:00:21\n",
      "   --------------------------------- ------ 169.6/204.1 MB 1.8 MB/s eta 0:00:20\n",
      "   --------------------------------- ------ 169.9/204.1 MB 1.8 MB/s eta 0:00:20\n",
      "   --------------------------------- ------ 170.1/204.1 MB 1.8 MB/s eta 0:00:20\n",
      "   --------------------------------- ------ 170.7/204.1 MB 1.8 MB/s eta 0:00:19\n",
      "   --------------------------------- ------ 170.9/204.1 MB 1.8 MB/s eta 0:00:19\n",
      "   --------------------------------- ------ 171.2/204.1 MB 1.8 MB/s eta 0:00:19\n",
      "   --------------------------------- ------ 171.4/204.1 MB 1.8 MB/s eta 0:00:19\n",
      "   --------------------------------- ------ 171.7/204.1 MB 1.8 MB/s eta 0:00:19\n",
      "   --------------------------------- ------ 172.2/204.1 MB 1.8 MB/s eta 0:00:19\n",
      "   --------------------------------- ------ 172.5/204.1 MB 1.8 MB/s eta 0:00:18\n",
      "   --------------------------------- ------ 173.0/204.1 MB 1.8 MB/s eta 0:00:18\n",
      "   ---------------------------------- ----- 173.5/204.1 MB 1.8 MB/s eta 0:00:18\n",
      "   ---------------------------------- ----- 174.1/204.1 MB 1.8 MB/s eta 0:00:17\n",
      "   ---------------------------------- ----- 174.6/204.1 MB 1.8 MB/s eta 0:00:17\n",
      "   ---------------------------------- ----- 174.9/204.1 MB 1.8 MB/s eta 0:00:17\n",
      "   ---------------------------------- ----- 175.4/204.1 MB 1.8 MB/s eta 0:00:17\n",
      "   ---------------------------------- ----- 175.9/204.1 MB 1.8 MB/s eta 0:00:16\n",
      "   ---------------------------------- ----- 176.4/204.1 MB 1.8 MB/s eta 0:00:16\n",
      "   ---------------------------------- ----- 176.9/204.1 MB 1.8 MB/s eta 0:00:16\n",
      "   ---------------------------------- ----- 177.5/204.1 MB 1.8 MB/s eta 0:00:15\n",
      "   ---------------------------------- ----- 178.0/204.1 MB 1.8 MB/s eta 0:00:15\n",
      "   ---------------------------------- ----- 178.3/204.1 MB 1.8 MB/s eta 0:00:15\n",
      "   ----------------------------------- ---- 178.8/204.1 MB 1.8 MB/s eta 0:00:14\n",
      "   ----------------------------------- ---- 179.3/204.1 MB 1.8 MB/s eta 0:00:14\n",
      "   ----------------------------------- ---- 179.6/204.1 MB 1.8 MB/s eta 0:00:14\n",
      "   ----------------------------------- ---- 179.8/204.1 MB 1.8 MB/s eta 0:00:14\n",
      "   ----------------------------------- ---- 180.1/204.1 MB 1.8 MB/s eta 0:00:14\n",
      "   ----------------------------------- ---- 180.4/204.1 MB 1.8 MB/s eta 0:00:14\n",
      "   ----------------------------------- ---- 180.6/204.1 MB 1.8 MB/s eta 0:00:14\n",
      "   ----------------------------------- ---- 180.9/204.1 MB 1.8 MB/s eta 0:00:14\n",
      "   ----------------------------------- ---- 181.1/204.1 MB 1.8 MB/s eta 0:00:13\n",
      "   ----------------------------------- ---- 181.4/204.1 MB 1.8 MB/s eta 0:00:13\n",
      "   ----------------------------------- ---- 181.7/204.1 MB 1.8 MB/s eta 0:00:13\n",
      "   ----------------------------------- ---- 181.9/204.1 MB 1.8 MB/s eta 0:00:13\n",
      "   ----------------------------------- ---- 182.5/204.1 MB 1.8 MB/s eta 0:00:13\n",
      "   ----------------------------------- ---- 182.7/204.1 MB 1.8 MB/s eta 0:00:13\n",
      "   ----------------------------------- ---- 183.0/204.1 MB 1.8 MB/s eta 0:00:12\n",
      "   ----------------------------------- ---- 183.2/204.1 MB 1.8 MB/s eta 0:00:12\n",
      "   ----------------------------------- ---- 183.5/204.1 MB 1.8 MB/s eta 0:00:12\n",
      "   ------------------------------------ --- 184.0/204.1 MB 1.8 MB/s eta 0:00:12\n",
      "   ------------------------------------ --- 184.3/204.1 MB 1.8 MB/s eta 0:00:12\n",
      "   ------------------------------------ --- 184.5/204.1 MB 1.8 MB/s eta 0:00:12\n",
      "   ------------------------------------ --- 184.8/204.1 MB 1.8 MB/s eta 0:00:11\n",
      "   ------------------------------------ --- 185.3/204.1 MB 1.8 MB/s eta 0:00:11\n",
      "   ------------------------------------ --- 185.9/204.1 MB 1.8 MB/s eta 0:00:11\n",
      "   ------------------------------------ --- 186.1/204.1 MB 1.8 MB/s eta 0:00:11\n",
      "   ------------------------------------ --- 186.9/204.1 MB 1.8 MB/s eta 0:00:10\n",
      "   ------------------------------------ --- 187.2/204.1 MB 1.8 MB/s eta 0:00:10\n",
      "   ------------------------------------ --- 187.4/204.1 MB 1.8 MB/s eta 0:00:10\n",
      "   ------------------------------------ --- 187.7/204.1 MB 1.8 MB/s eta 0:00:10\n",
      "   ------------------------------------ --- 188.0/204.1 MB 1.8 MB/s eta 0:00:10\n",
      "   ------------------------------------ --- 188.5/204.1 MB 1.8 MB/s eta 0:00:09\n",
      "   ------------------------------------ --- 188.7/204.1 MB 1.8 MB/s eta 0:00:09\n",
      "   ------------------------------------- -- 189.3/204.1 MB 1.8 MB/s eta 0:00:09\n",
      "   ------------------------------------- -- 189.5/204.1 MB 1.8 MB/s eta 0:00:09\n",
      "   ------------------------------------- -- 189.8/204.1 MB 1.8 MB/s eta 0:00:09\n",
      "   ------------------------------------- -- 190.1/204.1 MB 1.8 MB/s eta 0:00:09\n",
      "   ------------------------------------- -- 190.3/204.1 MB 1.7 MB/s eta 0:00:08\n",
      "   ------------------------------------- -- 190.6/204.1 MB 1.7 MB/s eta 0:00:08\n",
      "   ------------------------------------- -- 191.1/204.1 MB 1.7 MB/s eta 0:00:08\n",
      "   ------------------------------------- -- 191.4/204.1 MB 1.7 MB/s eta 0:00:08\n",
      "   ------------------------------------- -- 191.6/204.1 MB 1.7 MB/s eta 0:00:08\n",
      "   ------------------------------------- -- 192.2/204.1 MB 1.7 MB/s eta 0:00:07\n",
      "   ------------------------------------- -- 192.4/204.1 MB 1.7 MB/s eta 0:00:07\n",
      "   ------------------------------------- -- 192.9/204.1 MB 1.7 MB/s eta 0:00:07\n",
      "   ------------------------------------- -- 193.2/204.1 MB 1.7 MB/s eta 0:00:07\n",
      "   ------------------------------------- -- 193.5/204.1 MB 1.7 MB/s eta 0:00:07\n",
      "   ------------------------------------- -- 193.7/204.1 MB 1.7 MB/s eta 0:00:07\n",
      "   -------------------------------------- - 194.2/204.1 MB 1.7 MB/s eta 0:00:06\n",
      "   -------------------------------------- - 194.5/204.1 MB 1.7 MB/s eta 0:00:06\n",
      "   -------------------------------------- - 195.0/204.1 MB 1.7 MB/s eta 0:00:06\n",
      "   -------------------------------------- - 195.6/204.1 MB 1.7 MB/s eta 0:00:05\n",
      "   -------------------------------------- - 195.8/204.1 MB 1.7 MB/s eta 0:00:05\n",
      "   -------------------------------------- - 196.3/204.1 MB 1.7 MB/s eta 0:00:05\n",
      "   -------------------------------------- - 196.9/204.1 MB 1.7 MB/s eta 0:00:05\n",
      "   -------------------------------------- - 197.1/204.1 MB 1.8 MB/s eta 0:00:04\n",
      "   -------------------------------------- - 197.7/204.1 MB 1.7 MB/s eta 0:00:04\n",
      "   -------------------------------------- - 198.2/204.1 MB 1.8 MB/s eta 0:00:04\n",
      "   -------------------------------------- - 198.7/204.1 MB 1.8 MB/s eta 0:00:04\n",
      "   -------------------------------------- - 199.0/204.1 MB 1.8 MB/s eta 0:00:03\n",
      "   ---------------------------------------  199.5/204.1 MB 1.8 MB/s eta 0:00:03\n",
      "   ---------------------------------------  199.8/204.1 MB 1.8 MB/s eta 0:00:03\n",
      "   ---------------------------------------  200.3/204.1 MB 1.8 MB/s eta 0:00:03\n",
      "   ---------------------------------------  201.1/204.1 MB 1.8 MB/s eta 0:00:02\n",
      "   ---------------------------------------  201.9/204.1 MB 1.8 MB/s eta 0:00:02\n",
      "   ---------------------------------------  202.9/204.1 MB 1.8 MB/s eta 0:00:01\n",
      "   ---------------------------------------  203.7/204.1 MB 1.8 MB/s eta 0:00:01\n",
      "   ---------------------------------------  203.9/204.1 MB 1.8 MB/s eta 0:00:01\n",
      "   ---------------------------------------  203.9/204.1 MB 1.8 MB/s eta 0:00:01\n",
      "   ---------------------------------------  203.9/204.1 MB 1.8 MB/s eta 0:00:01\n",
      "   ---------------------------------------- 204.1/204.1 MB 1.8 MB/s eta 0:00:00\n",
      "Downloading sympy-1.13.1-py3-none-any.whl (6.2 MB)\n",
      "   ---------------------------------------- 0.0/6.2 MB ? eta -:--:--\n",
      "   ----- ---------------------------------- 0.8/6.2 MB 4.2 MB/s eta 0:00:02\n",
      "   -------- ------------------------------- 1.3/6.2 MB 3.6 MB/s eta 0:00:02\n",
      "   ------------- -------------------------- 2.1/6.2 MB 3.4 MB/s eta 0:00:02\n",
      "   ---------------- ----------------------- 2.6/6.2 MB 3.4 MB/s eta 0:00:02\n",
      "   ---------------------- ----------------- 3.4/6.2 MB 3.3 MB/s eta 0:00:01\n",
      "   --------------------------- ------------ 4.2/6.2 MB 3.4 MB/s eta 0:00:01\n",
      "   -------------------------------- ------- 5.0/6.2 MB 3.5 MB/s eta 0:00:01\n",
      "   ------------------------------------- -- 5.8/6.2 MB 3.4 MB/s eta 0:00:01\n",
      "   ---------------------------------------- 6.2/6.2 MB 3.4 MB/s eta 0:00:00\n",
      "Downloading transformers-4.50.1-py3-none-any.whl (10.2 MB)\n",
      "   ---------------------------------------- 0.0/10.2 MB ? eta -:--:--\n",
      "   -- ------------------------------------- 0.5/10.2 MB 2.8 MB/s eta 0:00:04\n",
      "   ----- ---------------------------------- 1.3/10.2 MB 3.3 MB/s eta 0:00:03\n",
      "   ------ --------------------------------- 1.6/10.2 MB 2.7 MB/s eta 0:00:04\n",
      "   --------- ------------------------------ 2.4/10.2 MB 3.0 MB/s eta 0:00:03\n",
      "   ------------- -------------------------- 3.4/10.2 MB 3.3 MB/s eta 0:00:03\n",
      "   ----------------- ---------------------- 4.5/10.2 MB 3.6 MB/s eta 0:00:02\n",
      "   --------------------- ------------------ 5.5/10.2 MB 3.8 MB/s eta 0:00:02\n",
      "   ------------------------ --------------- 6.3/10.2 MB 3.8 MB/s eta 0:00:02\n",
      "   --------------------------- ------------ 7.1/10.2 MB 3.8 MB/s eta 0:00:01\n",
      "   ------------------------------- -------- 8.1/10.2 MB 3.9 MB/s eta 0:00:01\n",
      "   ----------------------------------- ---- 8.9/10.2 MB 3.9 MB/s eta 0:00:01\n",
      "   ------------------------------------- -- 9.4/10.2 MB 3.8 MB/s eta 0:00:01\n",
      "   ---------------------------------------  10.0/10.2 MB 3.8 MB/s eta 0:00:01\n",
      "   ---------------------------------------- 10.2/10.2 MB 3.7 MB/s eta 0:00:00\n",
      "Downloading pillow-11.1.0-cp313-cp313-win_amd64.whl (2.6 MB)\n",
      "   ---------------------------------------- 0.0/2.6 MB ? eta -:--:--\n",
      "   --- ------------------------------------ 0.3/2.6 MB ? eta -:--:--\n",
      "   --------------- ------------------------ 1.0/2.6 MB 3.0 MB/s eta 0:00:01\n",
      "   --------------------------- ------------ 1.8/2.6 MB 3.5 MB/s eta 0:00:01\n",
      "   ------------------------------- -------- 2.1/2.6 MB 2.6 MB/s eta 0:00:01\n",
      "   ---------------------------------------  2.6/2.6 MB 2.5 MB/s eta 0:00:01\n",
      "   ---------------------------------------- 2.6/2.6 MB 2.3 MB/s eta 0:00:00\n",
      "Downloading fsspec-2025.3.0-py3-none-any.whl (193 kB)\n",
      "Downloading safetensors-0.5.3-cp38-abi3-win_amd64.whl (308 kB)\n",
      "Downloading tokenizers-0.21.1-cp39-abi3-win_amd64.whl (2.4 MB)\n",
      "   ---------------------------------------- 0.0/2.4 MB ? eta -:--:--\n",
      "   -------- ------------------------------- 0.5/2.4 MB 2.8 MB/s eta 0:00:01\n",
      "   ----------------- ---------------------- 1.0/2.4 MB 2.5 MB/s eta 0:00:01\n",
      "   ------------------------- -------------- 1.6/2.4 MB 2.6 MB/s eta 0:00:01\n",
      "   ---------------------------------- ----- 2.1/2.4 MB 2.7 MB/s eta 0:00:01\n",
      "   ---------------------------------------- 2.4/2.4 MB 2.6 MB/s eta 0:00:00\n",
      "Downloading filelock-3.18.0-py3-none-any.whl (16 kB)\n",
      "Downloading networkx-3.4.2-py3-none-any.whl (1.7 MB)\n",
      "   ---------------------------------------- 0.0/1.7 MB ? eta -:--:--\n",
      "   ------------ --------------------------- 0.5/1.7 MB 4.1 MB/s eta 0:00:01\n",
      "   ------------------------------ --------- 1.3/1.7 MB 3.3 MB/s eta 0:00:01\n",
      "   ---------------------------------------- 1.7/1.7 MB 3.1 MB/s eta 0:00:00\n",
      "Downloading mpmath-1.3.0-py3-none-any.whl (536 kB)\n",
      "   ---------------------------------------- 0.0/536.2 kB ? eta -:--:--\n",
      "   ------------------- -------------------- 262.1/536.2 kB ? eta -:--:--\n",
      "   ---------------------------------------- 536.2/536.2 kB 1.3 MB/s eta 0:00:00\n",
      "Installing collected packages: mpmath, sympy, safetensors, Pillow, networkx, fsspec, filelock, torch, huggingface-hub, tokenizers, transformers, sentence-transformers\n",
      "Successfully installed Pillow-11.1.0 filelock-3.18.0 fsspec-2025.3.0 huggingface-hub-0.29.3 mpmath-1.3.0 networkx-3.4.2 safetensors-0.5.3 sentence-transformers-4.0.1 sympy-1.13.1 tokenizers-0.21.1 torch-2.6.0 transformers-4.50.1\n"
     ]
    }
   ],
   "source": [
    "!pip install faiss-cpu\n",
    "!pip install sentence-transformers"
   ]
  },
  {
   "cell_type": "code",
   "execution_count": 13,
   "id": "1b9a45cc-a1f9-49c8-94e5-8def5d6fde46",
   "metadata": {},
   "outputs": [
    {
     "data": {
      "application/vnd.jupyter.widget-view+json": {
       "model_id": "9a6e881adb1e4088bcba96f3adc57a95",
       "version_major": 2,
       "version_minor": 0
      },
      "text/plain": [
       "modules.json:   0%|          | 0.00/349 [00:00<?, ?B/s]"
      ]
     },
     "metadata": {},
     "output_type": "display_data"
    },
    {
     "data": {
      "application/vnd.jupyter.widget-view+json": {
       "model_id": "684f934d707e481ca96852ac112dd53f",
       "version_major": 2,
       "version_minor": 0
      },
      "text/plain": [
       "config_sentence_transformers.json:   0%|          | 0.00/116 [00:00<?, ?B/s]"
      ]
     },
     "metadata": {},
     "output_type": "display_data"
    },
    {
     "data": {
      "application/vnd.jupyter.widget-view+json": {
       "model_id": "24b79b2e27554a81bd4c5a0840676229",
       "version_major": 2,
       "version_minor": 0
      },
      "text/plain": [
       "README.md:   0%|          | 0.00/10.5k [00:00<?, ?B/s]"
      ]
     },
     "metadata": {},
     "output_type": "display_data"
    },
    {
     "data": {
      "application/vnd.jupyter.widget-view+json": {
       "model_id": "cd284be4000f454a9f00d08a4ebf8f8f",
       "version_major": 2,
       "version_minor": 0
      },
      "text/plain": [
       "sentence_bert_config.json:   0%|          | 0.00/53.0 [00:00<?, ?B/s]"
      ]
     },
     "metadata": {},
     "output_type": "display_data"
    },
    {
     "data": {
      "application/vnd.jupyter.widget-view+json": {
       "model_id": "3b6861ab18ed475a990af5093da57552",
       "version_major": 2,
       "version_minor": 0
      },
      "text/plain": [
       "config.json:   0%|          | 0.00/612 [00:00<?, ?B/s]"
      ]
     },
     "metadata": {},
     "output_type": "display_data"
    },
    {
     "data": {
      "application/vnd.jupyter.widget-view+json": {
       "model_id": "1a45c75782c64150aca7e6865980b4d5",
       "version_major": 2,
       "version_minor": 0
      },
      "text/plain": [
       "model.safetensors:   0%|          | 0.00/90.9M [00:00<?, ?B/s]"
      ]
     },
     "metadata": {},
     "output_type": "display_data"
    },
    {
     "data": {
      "application/vnd.jupyter.widget-view+json": {
       "model_id": "0b6884f2162640cdb4c83256e5ebdcaa",
       "version_major": 2,
       "version_minor": 0
      },
      "text/plain": [
       "tokenizer_config.json:   0%|          | 0.00/350 [00:00<?, ?B/s]"
      ]
     },
     "metadata": {},
     "output_type": "display_data"
    },
    {
     "data": {
      "application/vnd.jupyter.widget-view+json": {
       "model_id": "8a38795700ee4276a66fae10257ddfb5",
       "version_major": 2,
       "version_minor": 0
      },
      "text/plain": [
       "vocab.txt:   0%|          | 0.00/232k [00:00<?, ?B/s]"
      ]
     },
     "metadata": {},
     "output_type": "display_data"
    },
    {
     "data": {
      "application/vnd.jupyter.widget-view+json": {
       "model_id": "5dbdba06bb31457aae2262005857b2d1",
       "version_major": 2,
       "version_minor": 0
      },
      "text/plain": [
       "tokenizer.json:   0%|          | 0.00/466k [00:00<?, ?B/s]"
      ]
     },
     "metadata": {},
     "output_type": "display_data"
    },
    {
     "data": {
      "application/vnd.jupyter.widget-view+json": {
       "model_id": "c7100952a2874866ab6076cf346c6491",
       "version_major": 2,
       "version_minor": 0
      },
      "text/plain": [
       "special_tokens_map.json:   0%|          | 0.00/112 [00:00<?, ?B/s]"
      ]
     },
     "metadata": {},
     "output_type": "display_data"
    },
    {
     "data": {
      "application/vnd.jupyter.widget-view+json": {
       "model_id": "f81cb800752e45b48fec0821dfa5d099",
       "version_major": 2,
       "version_minor": 0
      },
      "text/plain": [
       "config.json:   0%|          | 0.00/190 [00:00<?, ?B/s]"
      ]
     },
     "metadata": {},
     "output_type": "display_data"
    },
    {
     "name": "stdout",
     "output_type": "stream",
     "text": [
      "(3, 384)\n"
     ]
    }
   ],
   "source": [
    "from sentence_transformers import SentenceTransformer\n",
    "\n",
    "model = SentenceTransformer(\"all-MiniLM-L6-v2\")\n",
    "\n",
    "sentences = [\n",
    "    \"The weather is lovely today.\",\n",
    "    \"It's so sunny outside!\",\n",
    "    \"He drove to the stadium.\",\n",
    "]\n",
    "\n",
    "embeddings = model.encode(sentences)\n",
    "print(embeddings.shape)"
   ]
  },
  {
   "cell_type": "code",
   "execution_count": 15,
   "id": "8e9d90fc-bebc-44dd-be97-fca67a857fef",
   "metadata": {},
   "outputs": [
    {
     "name": "stdout",
     "output_type": "stream",
     "text": [
      "[[ 0.01919576  0.12008542  0.15959832 ... -0.00536283 -0.081095\n",
      "   0.05021336]\n",
      " [-0.01869037  0.0415187   0.07431546 ...  0.00486596 -0.06190438\n",
      "   0.03187513]\n",
      " [ 0.13650198  0.08227321 -0.02526165 ...  0.08762047  0.03045842\n",
      "  -0.01075751]]\n",
      "384\n"
     ]
    }
   ],
   "source": [
    "import faiss\n",
    "\n",
    "print(embeddings)\n",
    "print(embeddings.shape[1])\n",
    "\n",
    "#creating an index based on euclidian dist/L2 dist for faster search, of size 384\n",
    "index = faiss.IndexFlatL2(384)\n",
    "index.add(embeddings)"
   ]
  },
  {
   "cell_type": "code",
   "execution_count": 17,
   "id": "2dbe9b78-7e3a-42e1-bc2b-36cee424d776",
   "metadata": {},
   "outputs": [
    {
     "data": {
      "text/plain": [
       "(384,)"
      ]
     },
     "execution_count": 17,
     "metadata": {},
     "output_type": "execute_result"
    }
   ],
   "source": [
    "query = \"How is the weather?\"\n",
    "query_vector = model.encode(query)\n",
    "query_vector.shape"
   ]
  },
  {
   "cell_type": "code",
   "execution_count": 21,
   "id": "f1eea6f5-0855-46ff-8aaa-953e828527f1",
   "metadata": {},
   "outputs": [
    {
     "data": {
      "text/plain": [
       "(1, 384)"
      ]
     },
     "execution_count": 21,
     "metadata": {},
     "output_type": "execute_result"
    }
   ],
   "source": [
    "import numpy as np\n",
    "\n",
    "#to search on the index created above, we need 2d vector\n",
    "two_dim_vector_query = np.array(query_vector).reshape(1,-1)\n",
    "two_dim_vector_query.shape"
   ]
  },
  {
   "cell_type": "code",
   "execution_count": 22,
   "id": "71024989-768e-49ac-be48-4ae70e9e5f88",
   "metadata": {},
   "outputs": [
    {
     "name": "stdout",
     "output_type": "stream",
     "text": [
      "[[0.673712   0.88967365]] [[0 1]]\n"
     ]
    }
   ],
   "source": [
    "#k is like how many nearest vectors u want\n",
    "(distances, I) = index.search(two_dim_vector_query, k=2) #returns tuple, 1st one is distances, 2nd one is indexes in original dataframe\n",
    "print(distances, I)"
   ]
  }
 ],
 "metadata": {
  "kernelspec": {
   "display_name": "Python 3 (ipykernel)",
   "language": "python",
   "name": "python3"
  },
  "language_info": {
   "codemirror_mode": {
    "name": "ipython",
    "version": 3
   },
   "file_extension": ".py",
   "mimetype": "text/x-python",
   "name": "python",
   "nbconvert_exporter": "python",
   "pygments_lexer": "ipython3",
   "version": "3.13.1"
  }
 },
 "nbformat": 4,
 "nbformat_minor": 5
}
